{
 "cells": [
  {
   "cell_type": "markdown",
   "metadata": {},
   "source": [
    "# Classifiez automatiquement des biens de consommation\n",
    "\n",
    "- **Projet 6 du parcours « Data Scientist » d’OpenClassrooms**\n",
    "- **Mark Creasey**\n",
    "\n",
    "## Partie 1 : Classification de textes\n"
   ]
  },
  {
   "cell_type": "markdown",
   "metadata": {},
   "source": [
    "<!--TABLE OF CONTENTS-->\n",
    "\n",
    "- [1. Compréhension du problème](#1.-Compréhension-du-problème)\n",
    "  - [1.1 Mission](#1.1-Mission)\n",
    "  - [1.2 Requirements : Bibliothèques utilisées dans ce notebook](#1.2-Requirements-:-Bibliothèques-utilisées-dans-ce-notebook)\n",
    "  - [1.3 Des fonctions utilitaires](#1.3-Des-fonctions-utilitaires)\n",
    "  - [1.4 Des routines statistiques](#1.4-Des-routines-statistiques)\n",
    "- [2. Import et nettoyage des données](#2.-Import-et-nettoyage-des-données)\n"
   ]
  },
  {
   "cell_type": "markdown",
   "metadata": {},
   "source": [
    "# 1. Compréhension du problème\n",
    "\n",
    "## 1.1 Mission\n",
    "\n",
    "## Mission\n",
    "\n",
    "Etudier la faisabilité d'un **moteur de classification** des articles en différentes catégories,\n",
    "avec un niveau de précision suffisant.\n",
    "\n",
    "- **réaliser une première étude de faisabilité d'un moteur de classification**, d'articles, basé sur\n",
    "  une image et une description, pour l'automatisation de l'attribution de la catégorie de l'article.\n",
    "\n",
    "- **analyser le jeu de données** en **réalisant un prétraitement** des descriptions des produits et\n",
    "  des images, une **réduction de dimension**, puis un **clustering**, à présenter sous la forme de\n",
    "  graphiques en deux dimensions, et confirmés par un calcul de similarité entre les catégories\n",
    "  réelles et les clusters.\n",
    "- illustre que les caractéristiques extraites permettent de regrouper des produits de même\n",
    "  catégorie.\n",
    "\n",
    "- démontrer, par cette approche de modélisation, la faisabilité de regrouper automatiquement des\n",
    "  produits de même catégorie\n"
   ]
  },
  {
   "cell_type": "markdown",
   "metadata": {},
   "source": [
    "## 1.2 Requirements : Bibliothèques utilisées dans ce notebook\n",
    "\n",
    "- voir [`requirements.txt`](./requirements.txt) pour les versions des bibliothèques testées avec ce notebook\n"
   ]
  },
  {
   "cell_type": "code",
   "execution_count": 1,
   "metadata": {},
   "outputs": [],
   "source": [
    "# si ce notebook ne marche pas avec les versions\n",
    "# des bibliothèques dans votre environnement, alors\n",
    "# decommentarise la ligne suivant pour des versions testées:\n",
    "\n",
    "# %pip install -r requirements.txt\n"
   ]
  },
  {
   "cell_type": "code",
   "execution_count": 2,
   "metadata": {},
   "outputs": [],
   "source": [
    "def install_libraries(required={}) -> None:\n",
    "    \"\"\"\n",
    "    Installation des bibliothèques manquantes\n",
    "    https://stackoverflow.com/questions/44210656/\n",
    "    \"\"\"\n",
    "    import sys\n",
    "    import subprocess\n",
    "    import pkg_resources\n",
    "    installed = {pkg.key for pkg in pkg_resources.working_set}\n",
    "    missing = set(required) - set(installed)\n",
    "    if missing:\n",
    "        print(f'missing libraries: {missing}')\n",
    "        python = sys.executable\n",
    "        subprocess.check_call([python, '-m', 'pip', 'install', *missing],\n",
    "                              stdout=subprocess.DEVNULL)\n",
    "\n",
    "\n",
    "required_libraries = {'numpy', 'pandas',\n",
    "                      'matplotlib', 'seaborn', 'scikit-learn'}\n",
    "install_libraries(required_libraries)\n"
   ]
  },
  {
   "cell_type": "markdown",
   "metadata": {},
   "source": [
    "### 1.2.1 Import des bibliothèques\n"
   ]
  },
  {
   "cell_type": "code",
   "execution_count": 3,
   "metadata": {},
   "outputs": [],
   "source": [
    "import os\n",
    "import numpy as np\n",
    "import pandas as pd\n",
    "import matplotlib.pyplot as plt\n",
    "import seaborn as sns\n",
    "import sklearn"
   ]
  },
  {
   "cell_type": "markdown",
   "metadata": {},
   "source": [
    "### 1.2.2 Liste des versions des bibliothèques utilisées\n"
   ]
  },
  {
   "cell_type": "code",
   "execution_count": 4,
   "metadata": {},
   "outputs": [
    {
     "name": "stdout",
     "output_type": "stream",
     "text": [
      "versions des bibliothèques utilisées:\n",
      "numpy==1.21.5; pandas==1.1.5; seaborn==0.11.2; sklearn==1.0.2\n"
     ]
    }
   ],
   "source": [
    "from platform import python_version\n",
    "\n",
    "python_version()\n",
    "print('versions des bibliothèques utilisées:')\n",
    "print('; '.join(f'{m.__name__}=={m.__version__}' for m in globals(\n",
    ").values() if getattr(m, '__version__', None)))\n"
   ]
  },
  {
   "cell_type": "markdown",
   "metadata": {},
   "source": [
    "### 1.2.3 Configuration défauts d'affichage\n"
   ]
  },
  {
   "cell_type": "code",
   "execution_count": 5,
   "metadata": {},
   "outputs": [],
   "source": [
    "pd.set_option('display.max_columns', 200)  # pour afficher toutes les colonnes\n",
    "pd.set_option('display.max_rows', 20)  # pour afficher max 10 lignes\n",
    "pd.set_option('display.max_colwidth', 100)  # pour afficher toutes la text\n",
    "pd.set_option('display.precision', 2)\n",
    "pd.options.display.float_format = '{:.2f}'.format  # currency, lat,lng\n",
    "\n",
    "%matplotlib inline\n",
    "sns.set_theme(style=\"white\", context=\"notebook\")\n",
    "sns.set_color_codes(\"pastel\")\n",
    "sns.set_palette(\"tab20\")\n"
   ]
  },
  {
   "cell_type": "markdown",
   "metadata": {},
   "source": [
    "## 1.3 Des fonctions utilitaires\n",
    "\n",
    "### 1.3.1 Enregistrement des graphiques\n",
    "\n",
    "Pour enregistrer les graphiques, define **`SAVE_IMAGES = True`**\n"
   ]
  },
  {
   "cell_type": "code",
   "execution_count": 6,
   "metadata": {},
   "outputs": [],
   "source": [
    "SAVE_IMAGES = True\n",
    "IMAGE_FOLDER = './images/analyse'\n",
    "if not os.path.exists(IMAGE_FOLDER):\n",
    "    os.makedirs(IMAGE_FOLDER)\n"
   ]
  },
  {
   "cell_type": "code",
   "execution_count": 7,
   "metadata": {},
   "outputs": [],
   "source": [
    "def to_png(fig_name=None) -> None:\n",
    "    \"\"\"\n",
    "    Register the current plot figure as an image in a file.\n",
    "    Must call plt.show() or show image (by calling to_png() as last row in python cell)\n",
    "    to apply the call 'bbox_inches=tight', to be sure to include the whole title / legend\n",
    "    in the plot area.\n",
    "    \"\"\"\n",
    "\n",
    "    def get_title() -> str:\n",
    "        \"\"\"find current plot title (or suptitle if more than one plot)\"\"\"\n",
    "        if plt.gcf()._suptitle is None:  # noqa\n",
    "            return plt.gca().get_title()\n",
    "        else:\n",
    "            return plt.gcf()._suptitle.get_text()  # noqa\n",
    "\n",
    "    if SAVE_IMAGES:\n",
    "        if fig_name is None:\n",
    "            fig_name = get_title()\n",
    "        elif len(fig_name) < 9:\n",
    "            fig_name = f'{fig_name}_{get_title()}'\n",
    "        fig_name = fig_name.replace(' ', '_').replace(':', '-').replace(\n",
    "            '.', '-').replace('/', '_').replace('>', 'gt.').replace('<', 'lt.')\n",
    "        print(f'\"{fig_name}.png\"')\n",
    "        plt.gcf().savefig(\n",
    "            f'{IMAGE_FOLDER}/{fig_name}.png', bbox_inches='tight')\n"
   ]
  },
  {
   "cell_type": "markdown",
   "metadata": {},
   "source": [
    "### 1.3.2 Vérifier que les colonnes sont dans le dataframe\n",
    "\n",
    "- sans changer l'ordre des colonnes\n"
   ]
  },
  {
   "cell_type": "code",
   "execution_count": 8,
   "metadata": {},
   "outputs": [],
   "source": [
    "def cols_in_df(df: pd.DataFrame, colonnes: list = None) -> list:\n",
    "    \"\"\"\n",
    "    Procedure pour retourner les colonnes existantes dans le dataframe dans la même ordre.\n",
    "    Utiliser pour assurer que les colonnes existe.\n",
    "    \"\"\"\n",
    "    ret_cols = []\n",
    "    for col in colonnes:\n",
    "        if col in df.columns:\n",
    "            ret_cols.append(col)\n",
    "    return ret_cols\n"
   ]
  },
  {
   "cell_type": "markdown",
   "metadata": {},
   "source": [
    "# 2. Import et nettoyage des données\n",
    "\n",
    "## Les données\n",
    "\n",
    "Un premier jeu de données d’articles avec la photo et une description associée :\n",
    "[le lien pour télécharger](https://s3-eu-west-1.amazonaws.com/static.oc-static.com/prod/courses/files/Parcours_data_scientist/Projet+-+Textimage+DAS+V2/Dataset+projet+pre%CC%81traitement+textes+images.zip)\n"
   ]
  },
  {
   "cell_type": "markdown",
   "metadata": {},
   "source": [
    "## Import des données\n",
    "\n",
    "Le données du fichier zip (329 Mo) sont éxtraites dans le dossier définit par DATA_FOLDER ci-dessous."
   ]
  },
  {
   "cell_type": "code",
   "execution_count": 9,
   "metadata": {
    "colab": {
     "base_uri": "https://localhost:8080/"
    },
    "id": "FAKrDtU0d5uB",
    "outputId": "285d3e0d-aa65-40ee-eb7f-5b9e300e564e"
   },
   "outputs": [],
   "source": [
    "ENV='local'\n",
    "\n",
    "if ENV=='local':\n",
    "    # local development\n",
    "    DATA_FOLDER = 'data/raw'\n",
    "    OUT_FOLDER = 'data/out'\n",
    "    IMAGE_FOLDER = 'images/textes'\n",
    "\n",
    "if ENV == 'colab':\n",
    "    # Colaboratory - uncomment les 2 lignes suivant pour connecter à votre drive\n",
    "    from google.colab import drive\n",
    "    drive.mount('/content/drive')\n",
    "    DATA_FOLDER = '/content/drive/MyDrive/data/OC6'\n",
    "    OUT_FOLDER = '/content/drive/MyDrive/data/OC6'\n",
    "    IMAGE_FOLDER = '/content/drive/MyDrive/images/OC6/nettoyage'\n"
   ]
  },
  {
   "cell_type": "code",
   "execution_count": 10,
   "metadata": {},
   "outputs": [
    {
     "name": "stdout",
     "output_type": "stream",
     "text": [
      "data file: data/raw/Flipkart/flipkart_com-ecommerce_sample_1050.csv\n"
     ]
    }
   ],
   "source": [
    "# Données (DATA_FOLDER)\n",
    "ZIPPED_DATA_FILENAME=f'Dataset+projet+prétraitement+textes+images.zip'\n",
    "RAW_DATA_FILENAME='Flipkart/flipkart_com-ecommerce_sample_1050.csv'\n",
    "\n",
    "def os_make_dir(folder):\n",
    "    if not os.path.exists(folder):\n",
    "        os.makedirs(folder)\n",
    "\n",
    "def os_path_join(folder, file):\n",
    "    \"\"\"remplacement pour `os.path.join(folder, file)` sur windows\"\"\"\n",
    "    return f'{folder}/{file}'\n",
    "\n",
    "os_make_dir(IMAGE_FOLDER)\n",
    "RAW_DATA = os_path_join(DATA_FOLDER, RAW_DATA_FILENAME)\n",
    "DATA_ZIPPED = os_path_join(DATA_FOLDER,ZIPPED_DATA_FILENAME)\n",
    "print(f'data file: {RAW_DATA}')"
   ]
  },
  {
   "cell_type": "code",
   "execution_count": 11,
   "metadata": {},
   "outputs": [
    {
     "name": "stdout",
     "output_type": "stream",
     "text": [
      "data CSV file exists (data/raw/Flipkart/flipkart_com-ecommerce_sample_1050.csv)\n"
     ]
    }
   ],
   "source": [
    "def unzip_data_si_besoin(env=ENV):\n",
    "    \"\"\"\n",
    "    procedure pour unzip sur Google Drive via Google Colab\n",
    "    \"\"\"\n",
    "    if os.path.exists(RAW_DATA):\n",
    "        print(f'data CSV file exists ({RAW_DATA})')\n",
    "    else:\n",
    "        print(f'data CSV file does not exist ({RAW_DATA})')\n",
    "        if env=='colab' and os.path.exists(DATA_ZIPPED):\n",
    "            # uncomment les 3 lignes suivants\n",
    "            print (f'unzipping {DATA_ZIPPED}')\n",
    "            !unzip {DATA_ZIPPED} -d {DATA_FOLDER}\n",
    "            print (f'{DATA_ZIPPED} has been unzipped')\n",
    "            if os.path.exists(RAW_DATA):\n",
    "                print(f'data CSV file now exists ({RAW_DATA})')\n",
    "        else:\n",
    "            print(f'zipped data does not exist ({DATA_ZIPPED})')\n",
    "\n",
    "unzip_data_si_besoin(ENV)"
   ]
  },
  {
   "cell_type": "code",
   "execution_count": 12,
   "metadata": {},
   "outputs": [
    {
     "name": "stdout",
     "output_type": "stream",
     "text": [
      "Line 0 :\n",
      "uniq_id,crawl_timestamp,product_url,product_name,product_category_tree,pid,retail_price,discounted_price,image,is_FK_Advantage_product,description,product_rating,overall_rating,brand,product_specifications\n",
      "\n",
      "Line 1 :\n",
      "55b85ea15a1536d46b7190ad6fff8ce7,2016-04-30 03:22:56 +0000,http://www.flipkart.com/elegance-polyester-multicolor-abstract-eyelet-door-curtain/p/itmeg7bkzdgthcts?pid=CRNEG7BKMFFYHQ8Z,Elegance Polyester Multicolor Abstract Eyelet Door Curtain,\"[\"\"Home Furnishing >> Curtains & Accessories >> Curtains >> Elegance Polyester Multicolor Abstract Eyelet Do...\"\"]\",CRNEG7BKMFFYHQ8Z,1899.0,899.0,55b85ea15a1536d46b7190ad6fff8ce7.jpg,False,\"Key Features of Elegance Polyester Multicolor Abstract Eyelet Door Curtain Floral Curtain,Elegance Polyester Multicolor Abstract Eyelet Door Curtain (213 cm in Height, Pack of 2) Price: Rs. 899 This curtain enhances the look of the interiors.This curtain is made from 100% high quality polyester fabric.It features an eyelet style stitch with Metal Ring.It makes the room environment romantic and loving.This curtain is ant- wrinkle and anti shrinkage and have elegant apparance.Give your home a bright and modernistic appeal with these designs. The surreal attention is sure to steal hearts. These contemporary eyelet and valance curtains slide smoothly so when you draw them apart first thing in the morning to welcome the bright sun rays you want to wish good morning to the whole world and when you draw them close in the evening, you create the most special moments of joyous beauty given by the soothing prints. Bring home the elegant curtain that softly filters light in your room so that you get the right amount of sunlight.,Specifications of Elegance Polyester Multicolor Abstract Eyelet Door Curtain (213 cm in Height, Pack of 2) General Brand Elegance Designed For Door Type Eyelet Model Name Abstract Polyester Door Curtain Set Of 2 Model ID Duster25 Color Multicolor Dimensions Length 213 cm In the Box Number of Contents in Sales Package Pack of 2 Sales Package 2 Curtains Body & Design Material Polyester\",No rating available,No rating available,Elegance,\"{\"\"product_specification\"\"=>[{\"\"key\"\"=>\"\"Brand\"\", \"\"value\"\"=>\"\"Elegance\"\"}, {\"\"key\"\"=>\"\"Designed For\"\", \"\"value\"\"=>\"\"Door\"\"}, {\"\"key\"\"=>\"\"Type\"\", \"\"value\"\"=>\"\"Eyelet\"\"}, {\"\"key\"\"=>\"\"Model Name\"\", \"\"value\"\"=>\"\"Abstract Polyester Door Curtain Set Of 2\"\"}, {\"\"key\"\"=>\"\"Model ID\"\", \"\"value\"\"=>\"\"Duster25\"\"}, {\"\"key\"\"=>\"\"Color\"\", \"\"value\"\"=>\"\"Multicolor\"\"}, {\"\"key\"\"=>\"\"Length\"\", \"\"value\"\"=>\"\"213 cm\"\"}, {\"\"key\"\"=>\"\"Number of Contents in Sales Package\"\", \"\"value\"\"=>\"\"Pack of 2\"\"}, {\"\"key\"\"=>\"\"Sales Package\"\", \"\"value\"\"=>\"\"2 Curtains\"\"}, {\"\"key\"\"=>\"\"Material\"\", \"\"value\"\"=>\"\"Polyester\"\"}]}\"\n",
      "\n"
     ]
    }
   ],
   "source": [
    "def read_file_rows(file_path=RAW_DATA, nb_rows=1):\n",
    "    fp = open(file_path, encoding='UTF-8')\n",
    "    for i in range(nb_rows + 1):\n",
    "        row = fp.readline()\n",
    "        print(f'Line {i} :\\n{row}')\n",
    "\n",
    "\n",
    "read_file_rows(RAW_DATA, nb_rows=1)"
   ]
  },
  {
   "cell_type": "markdown",
   "metadata": {},
   "source": [
    "#### Format des données :\n",
    "\n",
    "- La premiere ligne contient les en-têtes (column names)\n",
    "- Les données semblent séparées par virgule\n",
    "- On utilise `encoding = UTF-8`\n",
    "- La colonne `product_specifications` est composé de key values."
   ]
  },
  {
   "cell_type": "code",
   "execution_count": 13,
   "metadata": {},
   "outputs": [
    {
     "data": {
      "text/html": [
       "<div>\n",
       "<style scoped>\n",
       "    .dataframe tbody tr th:only-of-type {\n",
       "        vertical-align: middle;\n",
       "    }\n",
       "\n",
       "    .dataframe tbody tr th {\n",
       "        vertical-align: top;\n",
       "    }\n",
       "\n",
       "    .dataframe thead th {\n",
       "        text-align: right;\n",
       "    }\n",
       "</style>\n",
       "<table border=\"1\" class=\"dataframe\">\n",
       "  <thead>\n",
       "    <tr style=\"text-align: right;\">\n",
       "      <th></th>\n",
       "      <th>uniq_id</th>\n",
       "      <th>crawl_timestamp</th>\n",
       "      <th>product_url</th>\n",
       "      <th>product_name</th>\n",
       "      <th>product_category_tree</th>\n",
       "      <th>pid</th>\n",
       "      <th>retail_price</th>\n",
       "      <th>discounted_price</th>\n",
       "      <th>image</th>\n",
       "      <th>is_FK_Advantage_product</th>\n",
       "      <th>description</th>\n",
       "      <th>product_rating</th>\n",
       "      <th>overall_rating</th>\n",
       "      <th>brand</th>\n",
       "      <th>product_specifications</th>\n",
       "    </tr>\n",
       "  </thead>\n",
       "  <tbody>\n",
       "    <tr>\n",
       "      <th>0</th>\n",
       "      <td>55b85ea15a1536d46b7190ad6fff8ce7</td>\n",
       "      <td>2016-04-30 03:22:56 +0000</td>\n",
       "      <td>http://www.flipkart.com/elegance-polyester-multicolor-abstract-eyelet-door-curtain/p/itmeg7bkzdg...</td>\n",
       "      <td>Elegance Polyester Multicolor Abstract Eyelet Door Curtain</td>\n",
       "      <td>[\"Home Furnishing &gt;&gt; Curtains &amp; Accessories &gt;&gt; Curtains &gt;&gt; Elegance Polyester Multicolor Abstrac...</td>\n",
       "      <td>CRNEG7BKMFFYHQ8Z</td>\n",
       "      <td>1899.00</td>\n",
       "      <td>899.00</td>\n",
       "      <td>55b85ea15a1536d46b7190ad6fff8ce7.jpg</td>\n",
       "      <td>False</td>\n",
       "      <td>Key Features of Elegance Polyester Multicolor Abstract Eyelet Door Curtain Floral Curtain,Elegan...</td>\n",
       "      <td>No rating available</td>\n",
       "      <td>No rating available</td>\n",
       "      <td>Elegance</td>\n",
       "      <td>{\"product_specification\"=&gt;[{\"key\"=&gt;\"Brand\", \"value\"=&gt;\"Elegance\"}, {\"key\"=&gt;\"Designed For\", \"value...</td>\n",
       "    </tr>\n",
       "    <tr>\n",
       "      <th>1</th>\n",
       "      <td>7b72c92c2f6c40268628ec5f14c6d590</td>\n",
       "      <td>2016-04-30 03:22:56 +0000</td>\n",
       "      <td>http://www.flipkart.com/sathiyas-cotton-bath-towel/p/itmegfzhxbyucwgn?pid=BTWEGFZHGBXPHZUH</td>\n",
       "      <td>Sathiyas Cotton Bath Towel</td>\n",
       "      <td>[\"Baby Care &gt;&gt; Baby Bath &amp; Skin &gt;&gt; Baby Bath Towels &gt;&gt; Sathiyas Baby Bath Towels &gt;&gt; Sathiyas Cot...</td>\n",
       "      <td>BTWEGFZHGBXPHZUH</td>\n",
       "      <td>600.00</td>\n",
       "      <td>449.00</td>\n",
       "      <td>7b72c92c2f6c40268628ec5f14c6d590.jpg</td>\n",
       "      <td>False</td>\n",
       "      <td>Specifications of Sathiyas Cotton Bath Towel (3 Bath Towel, Red, Yellow, Blue) Bath Towel Featur...</td>\n",
       "      <td>No rating available</td>\n",
       "      <td>No rating available</td>\n",
       "      <td>Sathiyas</td>\n",
       "      <td>{\"product_specification\"=&gt;[{\"key\"=&gt;\"Machine Washable\", \"value\"=&gt;\"Yes\"}, {\"key\"=&gt;\"Material\", \"val...</td>\n",
       "    </tr>\n",
       "  </tbody>\n",
       "</table>\n",
       "</div>"
      ],
      "text/plain": [
       "                            uniq_id            crawl_timestamp  \\\n",
       "0  55b85ea15a1536d46b7190ad6fff8ce7  2016-04-30 03:22:56 +0000   \n",
       "1  7b72c92c2f6c40268628ec5f14c6d590  2016-04-30 03:22:56 +0000   \n",
       "\n",
       "                                                                                           product_url  \\\n",
       "0  http://www.flipkart.com/elegance-polyester-multicolor-abstract-eyelet-door-curtain/p/itmeg7bkzdg...   \n",
       "1           http://www.flipkart.com/sathiyas-cotton-bath-towel/p/itmegfzhxbyucwgn?pid=BTWEGFZHGBXPHZUH   \n",
       "\n",
       "                                                 product_name  \\\n",
       "0  Elegance Polyester Multicolor Abstract Eyelet Door Curtain   \n",
       "1                                  Sathiyas Cotton Bath Towel   \n",
       "\n",
       "                                                                                 product_category_tree  \\\n",
       "0  [\"Home Furnishing >> Curtains & Accessories >> Curtains >> Elegance Polyester Multicolor Abstrac...   \n",
       "1  [\"Baby Care >> Baby Bath & Skin >> Baby Bath Towels >> Sathiyas Baby Bath Towels >> Sathiyas Cot...   \n",
       "\n",
       "                pid  retail_price  discounted_price  \\\n",
       "0  CRNEG7BKMFFYHQ8Z       1899.00            899.00   \n",
       "1  BTWEGFZHGBXPHZUH        600.00            449.00   \n",
       "\n",
       "                                  image  is_FK_Advantage_product  \\\n",
       "0  55b85ea15a1536d46b7190ad6fff8ce7.jpg                    False   \n",
       "1  7b72c92c2f6c40268628ec5f14c6d590.jpg                    False   \n",
       "\n",
       "                                                                                           description  \\\n",
       "0  Key Features of Elegance Polyester Multicolor Abstract Eyelet Door Curtain Floral Curtain,Elegan...   \n",
       "1  Specifications of Sathiyas Cotton Bath Towel (3 Bath Towel, Red, Yellow, Blue) Bath Towel Featur...   \n",
       "\n",
       "        product_rating       overall_rating     brand  \\\n",
       "0  No rating available  No rating available  Elegance   \n",
       "1  No rating available  No rating available  Sathiyas   \n",
       "\n",
       "                                                                                product_specifications  \n",
       "0  {\"product_specification\"=>[{\"key\"=>\"Brand\", \"value\"=>\"Elegance\"}, {\"key\"=>\"Designed For\", \"value...  \n",
       "1  {\"product_specification\"=>[{\"key\"=>\"Machine Washable\", \"value\"=>\"Yes\"}, {\"key\"=>\"Material\", \"val...  "
      ]
     },
     "execution_count": 13,
     "metadata": {},
     "output_type": "execute_result"
    }
   ],
   "source": [
    "df_sample = pd.read_csv(RAW_DATA, sep=',',header=0, encoding='UTF-8')\n",
    "df_sample.head(2)"
   ]
  }
 ],
 "metadata": {
  "interpreter": {
   "hash": "08f54268de9884c973a82c2c5267bbf1de8fae7577a142dd199c5c3f90c0dd65"
  },
  "kernelspec": {
   "display_name": "Python 3.7.0 ('OC_3')",
   "language": "python",
   "name": "python3"
  },
  "language_info": {
   "codemirror_mode": {
    "name": "ipython",
    "version": 3
   },
   "file_extension": ".py",
   "mimetype": "text/x-python",
   "name": "python",
   "nbconvert_exporter": "python",
   "pygments_lexer": "ipython3",
   "version": "3.7.0"
  },
  "orig_nbformat": 4
 },
 "nbformat": 4,
 "nbformat_minor": 2
}
