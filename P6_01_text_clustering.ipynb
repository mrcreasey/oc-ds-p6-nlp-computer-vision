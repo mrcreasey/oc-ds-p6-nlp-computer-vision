{
 "cells": [
  {
   "cell_type": "markdown",
   "metadata": {},
   "source": [
    "# Classifiez automatiquement des biens de consommation\n",
    "\n",
    "- **Projet 6 du parcours « Data Scientist » d’OpenClassrooms**\n",
    "- **Mark Creasey**\n",
    "\n",
    "## Partie 1 : Classification de textes\n"
   ]
  },
  {
   "cell_type": "markdown",
   "metadata": {},
   "source": [
    "<!--TABLE OF CONTENTS-->\n",
    "\n",
    "- [1. Compréhension du problème](#1.-Compréhension-du-problème)\n",
    "  - [1.1 Mission](#1.1-Mission)\n",
    "  - [1.2 Requirements : Bibliothèques utilisées dans ce notebook](#1.2-Requirements-:-Bibliothèques-utilisées-dans-ce-notebook)\n",
    "  - [1.3 Des fonctions utilitaires](#1.3-Des-fonctions-utilitaires)\n",
    "  - [1.4 Des routines statistiques](#1.4-Des-routines-statistiques)\n",
    "- [2. Import et nettoyage des données](#2.-Import-et-nettoyage-des-données)\n"
   ]
  },
  {
   "cell_type": "markdown",
   "metadata": {},
   "source": [
    "# 1. Compréhension du problème\n",
    "\n",
    "## 1.1 Mission\n",
    "\n",
    "## Mission\n",
    "\n",
    "Etudier la faisabilité d'un **moteur de classification** des articles en différentes catégories,\n",
    "avec un niveau de précision suffisant.\n",
    "\n",
    "- **réaliser une première étude de faisabilité d'un moteur de classification**, d'articles, basé sur\n",
    "  une image et une description, pour l'automatisation de l'attribution de la catégorie de l'article.\n",
    "\n",
    "- **analyser le jeu de données** en **réalisant un prétraitement** des descriptions des produits et\n",
    "  des images, une **réduction de dimension**, puis un **clustering**, à présenter sous la forme de\n",
    "  graphiques en deux dimensions, et confirmés par un calcul de similarité entre les catégories\n",
    "  réelles et les clusters.\n",
    "- illustre que les caractéristiques extraites permettent de regrouper des produits de même\n",
    "  catégorie.\n",
    "\n",
    "- démontrer, par cette approche de modélisation, la faisabilité de regrouper automatiquement des\n",
    "  produits de même catégorie\n"
   ]
  },
  {
   "cell_type": "markdown",
   "metadata": {},
   "source": [
    "## 1.2 Requirements : Bibliothèques utilisées dans ce notebook\n",
    "\n",
    "- voir [`requirements.txt`](./requirements.txt) pour les versions des bibliothèques testées avec ce notebook\n"
   ]
  },
  {
   "cell_type": "code",
   "execution_count": 1,
   "metadata": {},
   "outputs": [],
   "source": [
    "# si ce notebook ne marche pas avec les versions\n",
    "# des bibliothèques dans votre environnement, alors\n",
    "# decommentarise la ligne suivant pour des versions testées:\n",
    "\n",
    "# %pip install -r requirements.txt\n"
   ]
  },
  {
   "cell_type": "code",
   "execution_count": 2,
   "metadata": {},
   "outputs": [],
   "source": [
    "def install_libraries(required={}) -> None:\n",
    "    \"\"\"\n",
    "    Installation des bibliothèques manquantes\n",
    "    https://stackoverflow.com/questions/44210656/\n",
    "    \"\"\"\n",
    "    import sys\n",
    "    import subprocess\n",
    "    import pkg_resources\n",
    "    installed = {pkg.key for pkg in pkg_resources.working_set}\n",
    "    missing = set(required) - set(installed)\n",
    "    if missing:\n",
    "        print(f'missing libraries: {missing}')\n",
    "        python = sys.executable\n",
    "        subprocess.check_call([python, '-m', 'pip', 'install', *missing],\n",
    "                              stdout=subprocess.DEVNULL)\n",
    "\n",
    "\n",
    "required_libraries = {'numpy', 'pandas',\n",
    "                      'matplotlib', 'seaborn', 'scikit-learn',\n",
    "                      'nltk'}\n",
    "install_libraries(required_libraries)\n"
   ]
  },
  {
   "cell_type": "markdown",
   "metadata": {},
   "source": [
    "### 1.2.1 Import des bibliothèques\n"
   ]
  },
  {
   "cell_type": "code",
   "execution_count": 3,
   "metadata": {},
   "outputs": [],
   "source": [
    "import os\n",
    "import numpy as np\n",
    "import pandas as pd\n",
    "import matplotlib.pyplot as plt\n",
    "import seaborn as sns\n",
    "import sklearn\n",
    "import nltk\n"
   ]
  },
  {
   "cell_type": "markdown",
   "metadata": {},
   "source": [
    "### 1.2.2 Liste des versions des bibliothèques utilisées\n"
   ]
  },
  {
   "cell_type": "code",
   "execution_count": 4,
   "metadata": {},
   "outputs": [
    {
     "name": "stdout",
     "output_type": "stream",
     "text": [
      "versions des bibliothèques utilisées:\n",
      "numpy==1.21.5; pandas==1.1.5; seaborn==0.11.2; sklearn==1.0.2; nltk==3.7\n"
     ]
    }
   ],
   "source": [
    "from platform import python_version\n",
    "\n",
    "python_version()\n",
    "print('versions des bibliothèques utilisées:')\n",
    "print('; '.join(f'{m.__name__}=={m.__version__}' for m in globals(\n",
    ").values() if getattr(m, '__version__', None)))\n"
   ]
  },
  {
   "cell_type": "markdown",
   "metadata": {},
   "source": [
    "### 1.2.3 Configuration défauts d'affichage\n"
   ]
  },
  {
   "cell_type": "code",
   "execution_count": 5,
   "metadata": {},
   "outputs": [],
   "source": [
    "pd.set_option('display.max_columns', 200)  # pour afficher toutes les colonnes\n",
    "pd.set_option('display.max_rows', 20)  # pour afficher max 10 lignes\n",
    "pd.set_option('display.max_colwidth', 100)  # pour afficher toutes la text\n",
    "pd.set_option('display.precision', 2)\n",
    "pd.options.display.float_format = '{:.2f}'.format  # currency, lat,lng\n",
    "\n",
    "%matplotlib inline\n",
    "sns.set_theme(style=\"white\", context=\"notebook\")\n",
    "sns.set_color_codes(\"pastel\")\n",
    "sns.set_palette(\"tab20\")\n"
   ]
  },
  {
   "cell_type": "markdown",
   "metadata": {},
   "source": [
    "## 1.3 Des fonctions utilitaires\n",
    "\n",
    "### 1.3.1 Enregistrement des graphiques\n",
    "\n",
    "Pour enregistrer les graphiques, define **`SAVE_IMAGES = True`**\n"
   ]
  },
  {
   "cell_type": "code",
   "execution_count": 6,
   "metadata": {},
   "outputs": [],
   "source": [
    "SAVE_IMAGES = True\n",
    "IMAGE_FOLDER = './images/analyse'\n",
    "if not os.path.exists(IMAGE_FOLDER):\n",
    "    os.makedirs(IMAGE_FOLDER)\n"
   ]
  },
  {
   "cell_type": "code",
   "execution_count": 7,
   "metadata": {},
   "outputs": [],
   "source": [
    "def to_png(fig_name=None) -> None:\n",
    "    \"\"\"\n",
    "    Register the current plot figure as an image in a file.\n",
    "    Must call plt.show() or show image (by calling to_png() as last row in python cell)\n",
    "    to apply the call 'bbox_inches=tight', to be sure to include the whole title / legend\n",
    "    in the plot area.\n",
    "    \"\"\"\n",
    "\n",
    "    def get_title() -> str:\n",
    "        \"\"\"find current plot title (or suptitle if more than one plot)\"\"\"\n",
    "        if plt.gcf()._suptitle is None:  # noqa\n",
    "            return plt.gca().get_title()\n",
    "        else:\n",
    "            return plt.gcf()._suptitle.get_text()  # noqa\n",
    "\n",
    "    if SAVE_IMAGES:\n",
    "        if fig_name is None:\n",
    "            fig_name = get_title()\n",
    "        elif len(fig_name) < 9:\n",
    "            fig_name = f'{fig_name}_{get_title()}'\n",
    "        fig_name = fig_name.replace(' ', '_').replace(':', '-').replace(\n",
    "            '.', '-').replace('/', '_').replace('>', 'gt.').replace('<', 'lt.')\n",
    "        print(f'\"{fig_name}.png\"')\n",
    "        plt.gcf().savefig(\n",
    "            f'{IMAGE_FOLDER}/{fig_name}.png', bbox_inches='tight')\n"
   ]
  },
  {
   "cell_type": "markdown",
   "metadata": {},
   "source": [
    "### 1.3.2 Vérifier que les colonnes sont dans le dataframe\n",
    "\n",
    "- sans changer l'ordre des colonnes\n"
   ]
  },
  {
   "cell_type": "code",
   "execution_count": 8,
   "metadata": {},
   "outputs": [],
   "source": [
    "def cols_in_df(df: pd.DataFrame, colonnes: list = None) -> list:\n",
    "    \"\"\"\n",
    "    Procedure pour retourner les colonnes existantes dans le dataframe dans la même ordre.\n",
    "    Utiliser pour assurer que les colonnes existe.\n",
    "    \"\"\"\n",
    "    ret_cols = []\n",
    "    for col in colonnes:\n",
    "        if col in df.columns:\n",
    "            ret_cols.append(col)\n",
    "    return ret_cols\n"
   ]
  },
  {
   "cell_type": "markdown",
   "metadata": {},
   "source": [
    "# 2. Import et nettoyage des données\n",
    "\n",
    "## Les données\n",
    "\n",
    "Un premier jeu de données d’articles avec la photo et une description associée :\n",
    "[le lien pour télécharger](https://s3-eu-west-1.amazonaws.com/static.oc-static.com/prod/courses/files/Parcours_data_scientist/Projet+-+Textimage+DAS+V2/Dataset+projet+pre%CC%81traitement+textes+images.zip)\n"
   ]
  },
  {
   "cell_type": "markdown",
   "metadata": {},
   "source": [
    "## Import des données\n",
    "\n",
    "Le données du fichier zip (329 Mo) sont éxtraites dans le dossier définit par DATA_FOLDER ci-dessous.\n"
   ]
  },
  {
   "cell_type": "code",
   "execution_count": 9,
   "metadata": {
    "colab": {
     "base_uri": "https://localhost:8080/"
    },
    "id": "FAKrDtU0d5uB",
    "outputId": "285d3e0d-aa65-40ee-eb7f-5b9e300e564e"
   },
   "outputs": [],
   "source": [
    "ENV = 'local'\n",
    "\n",
    "if ENV == 'local':\n",
    "    # local development\n",
    "    DATA_FOLDER = 'data/raw'\n",
    "    OUT_FOLDER = 'data/out'\n",
    "    IMAGE_FOLDER = 'images/textes'\n",
    "\n",
    "if ENV == 'colab':\n",
    "    # Colaboratory - uncomment les 2 lignes suivant pour connecter à votre drive\n",
    "    from google.colab import drive\n",
    "    drive.mount('/content/drive')\n",
    "    DATA_FOLDER = '/content/drive/MyDrive/data/OC6'\n",
    "    OUT_FOLDER = '/content/drive/MyDrive/data/OC6'\n",
    "    IMAGE_FOLDER = '/content/drive/MyDrive/images/OC6/nettoyage'\n"
   ]
  },
  {
   "cell_type": "code",
   "execution_count": 10,
   "metadata": {},
   "outputs": [
    {
     "name": "stdout",
     "output_type": "stream",
     "text": [
      "data file: data/raw/Flipkart/flipkart_com-ecommerce_sample_1050.csv\n"
     ]
    }
   ],
   "source": [
    "# Données (DATA_FOLDER)\n",
    "ZIPPED_DATA_FILENAME = f'Dataset+projet+prétraitement+textes+images.zip'\n",
    "RAW_DATA_FILENAME = 'Flipkart/flipkart_com-ecommerce_sample_1050.csv'\n",
    "\n",
    "\n",
    "def os_make_dir(folder):\n",
    "    if not os.path.exists(folder):\n",
    "        os.makedirs(folder)\n",
    "\n",
    "\n",
    "def os_path_join(folder, file):\n",
    "    \"\"\"remplacement pour `os.path.join(folder, file)` sur windows\"\"\"\n",
    "    return f'{folder}/{file}'\n",
    "\n",
    "\n",
    "os_make_dir(IMAGE_FOLDER)\n",
    "RAW_DATA = os_path_join(DATA_FOLDER, RAW_DATA_FILENAME)\n",
    "DATA_ZIPPED = os_path_join(DATA_FOLDER, ZIPPED_DATA_FILENAME)\n",
    "print(f'data file: {RAW_DATA}')\n"
   ]
  },
  {
   "cell_type": "code",
   "execution_count": 11,
   "metadata": {},
   "outputs": [
    {
     "name": "stdout",
     "output_type": "stream",
     "text": [
      "data CSV file exists (data/raw/Flipkart/flipkart_com-ecommerce_sample_1050.csv)\n"
     ]
    }
   ],
   "source": [
    "def unzip_data_si_besoin(env=ENV):\n",
    "    \"\"\"\n",
    "    procedure pour unzip sur Google Drive via Google Colab\n",
    "    \"\"\"\n",
    "    if os.path.exists(RAW_DATA):\n",
    "        print(f'data CSV file exists ({RAW_DATA})')\n",
    "    else:\n",
    "        print(f'data CSV file does not exist ({RAW_DATA})')\n",
    "        if env == 'colab' and os.path.exists(DATA_ZIPPED):\n",
    "            # uncomment les 3 lignes suivants\n",
    "            print(f'unzipping {DATA_ZIPPED}')\n",
    "            !unzip {DATA_ZIPPED} - d {DATA_FOLDER}\n",
    "            print(f'{DATA_ZIPPED} has been unzipped')\n",
    "            if os.path.exists(RAW_DATA):\n",
    "                print(f'data CSV file now exists ({RAW_DATA})')\n",
    "        else:\n",
    "            print(f'zipped data does not exist ({DATA_ZIPPED})')\n",
    "\n",
    "\n",
    "unzip_data_si_besoin(ENV)\n"
   ]
  },
  {
   "cell_type": "code",
   "execution_count": 12,
   "metadata": {},
   "outputs": [
    {
     "name": "stdout",
     "output_type": "stream",
     "text": [
      "Line 0 :\n",
      "uniq_id,crawl_timestamp,product_url,product_name,product_category_tree,pid,retail_price,discounted_price,image,is_FK_Advantage_product,description,product_rating,overall_rating,brand,product_specifications\n",
      "\n",
      "Line 1 :\n",
      "55b85ea15a1536d46b7190ad6fff8ce7,2016-04-30 03:22:56 +0000,http://www.flipkart.com/elegance-polyester-multicolor-abstract-eyelet-door-curtain/p/itmeg7bkzdgthcts?pid=CRNEG7BKMFFYHQ8Z,Elegance Polyester Multicolor Abstract Eyelet Door Curtain,\"[\"\"Home Furnishing >> Curtains & Accessories >> Curtains >> Elegance Polyester Multicolor Abstract Eyelet Do...\"\"]\",CRNEG7BKMFFYHQ8Z,1899.0,899.0,55b85ea15a1536d46b7190ad6fff8ce7.jpg,False,\"Key Features of Elegance Polyester Multicolor Abstract Eyelet Door Curtain Floral Curtain,Elegance Polyester Multicolor Abstract Eyelet Door Curtain (213 cm in Height, Pack of 2) Price: Rs. 899 This curtain enhances the look of the interiors.This curtain is made from 100% high quality polyester fabric.It features an eyelet style stitch with Metal Ring.It makes the room environment romantic and loving.This curtain is ant- wrinkle and anti shrinkage and have elegant apparance.Give your home a bright and modernistic appeal with these designs. The surreal attention is sure to steal hearts. These contemporary eyelet and valance curtains slide smoothly so when you draw them apart first thing in the morning to welcome the bright sun rays you want to wish good morning to the whole world and when you draw them close in the evening, you create the most special moments of joyous beauty given by the soothing prints. Bring home the elegant curtain that softly filters light in your room so that you get the right amount of sunlight.,Specifications of Elegance Polyester Multicolor Abstract Eyelet Door Curtain (213 cm in Height, Pack of 2) General Brand Elegance Designed For Door Type Eyelet Model Name Abstract Polyester Door Curtain Set Of 2 Model ID Duster25 Color Multicolor Dimensions Length 213 cm In the Box Number of Contents in Sales Package Pack of 2 Sales Package 2 Curtains Body & Design Material Polyester\",No rating available,No rating available,Elegance,\"{\"\"product_specification\"\"=>[{\"\"key\"\"=>\"\"Brand\"\", \"\"value\"\"=>\"\"Elegance\"\"}, {\"\"key\"\"=>\"\"Designed For\"\", \"\"value\"\"=>\"\"Door\"\"}, {\"\"key\"\"=>\"\"Type\"\", \"\"value\"\"=>\"\"Eyelet\"\"}, {\"\"key\"\"=>\"\"Model Name\"\", \"\"value\"\"=>\"\"Abstract Polyester Door Curtain Set Of 2\"\"}, {\"\"key\"\"=>\"\"Model ID\"\", \"\"value\"\"=>\"\"Duster25\"\"}, {\"\"key\"\"=>\"\"Color\"\", \"\"value\"\"=>\"\"Multicolor\"\"}, {\"\"key\"\"=>\"\"Length\"\", \"\"value\"\"=>\"\"213 cm\"\"}, {\"\"key\"\"=>\"\"Number of Contents in Sales Package\"\", \"\"value\"\"=>\"\"Pack of 2\"\"}, {\"\"key\"\"=>\"\"Sales Package\"\", \"\"value\"\"=>\"\"2 Curtains\"\"}, {\"\"key\"\"=>\"\"Material\"\", \"\"value\"\"=>\"\"Polyester\"\"}]}\"\n",
      "\n"
     ]
    }
   ],
   "source": [
    "def read_file_rows(file_path=RAW_DATA, nb_rows=1):\n",
    "    fp = open(file_path, encoding='UTF-8')\n",
    "    for i in range(nb_rows + 1):\n",
    "        row = fp.readline()\n",
    "        print(f'Line {i} :\\n{row}')\n",
    "\n",
    "\n",
    "read_file_rows(RAW_DATA, nb_rows=1)\n"
   ]
  },
  {
   "cell_type": "markdown",
   "metadata": {},
   "source": [
    "#### Format des données :\n",
    "\n",
    "- La premiere ligne contient les en-têtes (column names)\n",
    "- Les données semblent séparées par virgule\n",
    "- On utilise `encoding = UTF-8`\n",
    "- La colonne `product_specifications` est composé de key values.\n"
   ]
  },
  {
   "cell_type": "code",
   "execution_count": 13,
   "metadata": {},
   "outputs": [
    {
     "data": {
      "text/html": [
       "<div>\n",
       "<style scoped>\n",
       "    .dataframe tbody tr th:only-of-type {\n",
       "        vertical-align: middle;\n",
       "    }\n",
       "\n",
       "    .dataframe tbody tr th {\n",
       "        vertical-align: top;\n",
       "    }\n",
       "\n",
       "    .dataframe thead th {\n",
       "        text-align: right;\n",
       "    }\n",
       "</style>\n",
       "<table border=\"1\" class=\"dataframe\">\n",
       "  <thead>\n",
       "    <tr style=\"text-align: right;\">\n",
       "      <th></th>\n",
       "      <th>uniq_id</th>\n",
       "      <th>crawl_timestamp</th>\n",
       "      <th>product_url</th>\n",
       "      <th>product_name</th>\n",
       "      <th>product_category_tree</th>\n",
       "      <th>pid</th>\n",
       "      <th>retail_price</th>\n",
       "      <th>discounted_price</th>\n",
       "      <th>image</th>\n",
       "      <th>is_FK_Advantage_product</th>\n",
       "      <th>description</th>\n",
       "      <th>product_rating</th>\n",
       "      <th>overall_rating</th>\n",
       "      <th>brand</th>\n",
       "      <th>product_specifications</th>\n",
       "    </tr>\n",
       "  </thead>\n",
       "  <tbody>\n",
       "    <tr>\n",
       "      <th>0</th>\n",
       "      <td>55b85ea15a1536d46b7190ad6fff8ce7</td>\n",
       "      <td>2016-04-30 03:22:56 +0000</td>\n",
       "      <td>http://www.flipkart.com/elegance-polyester-multicolor-abstract-eyelet-door-curtain/p/itmeg7bkzdg...</td>\n",
       "      <td>Elegance Polyester Multicolor Abstract Eyelet Door Curtain</td>\n",
       "      <td>[\"Home Furnishing &gt;&gt; Curtains &amp; Accessories &gt;&gt; Curtains &gt;&gt; Elegance Polyester Multicolor Abstrac...</td>\n",
       "      <td>CRNEG7BKMFFYHQ8Z</td>\n",
       "      <td>1899.00</td>\n",
       "      <td>899.00</td>\n",
       "      <td>55b85ea15a1536d46b7190ad6fff8ce7.jpg</td>\n",
       "      <td>False</td>\n",
       "      <td>Key Features of Elegance Polyester Multicolor Abstract Eyelet Door Curtain Floral Curtain,Elegan...</td>\n",
       "      <td>No rating available</td>\n",
       "      <td>No rating available</td>\n",
       "      <td>Elegance</td>\n",
       "      <td>{\"product_specification\"=&gt;[{\"key\"=&gt;\"Brand\", \"value\"=&gt;\"Elegance\"}, {\"key\"=&gt;\"Designed For\", \"value...</td>\n",
       "    </tr>\n",
       "    <tr>\n",
       "      <th>1</th>\n",
       "      <td>7b72c92c2f6c40268628ec5f14c6d590</td>\n",
       "      <td>2016-04-30 03:22:56 +0000</td>\n",
       "      <td>http://www.flipkart.com/sathiyas-cotton-bath-towel/p/itmegfzhxbyucwgn?pid=BTWEGFZHGBXPHZUH</td>\n",
       "      <td>Sathiyas Cotton Bath Towel</td>\n",
       "      <td>[\"Baby Care &gt;&gt; Baby Bath &amp; Skin &gt;&gt; Baby Bath Towels &gt;&gt; Sathiyas Baby Bath Towels &gt;&gt; Sathiyas Cot...</td>\n",
       "      <td>BTWEGFZHGBXPHZUH</td>\n",
       "      <td>600.00</td>\n",
       "      <td>449.00</td>\n",
       "      <td>7b72c92c2f6c40268628ec5f14c6d590.jpg</td>\n",
       "      <td>False</td>\n",
       "      <td>Specifications of Sathiyas Cotton Bath Towel (3 Bath Towel, Red, Yellow, Blue) Bath Towel Featur...</td>\n",
       "      <td>No rating available</td>\n",
       "      <td>No rating available</td>\n",
       "      <td>Sathiyas</td>\n",
       "      <td>{\"product_specification\"=&gt;[{\"key\"=&gt;\"Machine Washable\", \"value\"=&gt;\"Yes\"}, {\"key\"=&gt;\"Material\", \"val...</td>\n",
       "    </tr>\n",
       "  </tbody>\n",
       "</table>\n",
       "</div>"
      ],
      "text/plain": [
       "                            uniq_id            crawl_timestamp  \\\n",
       "0  55b85ea15a1536d46b7190ad6fff8ce7  2016-04-30 03:22:56 +0000   \n",
       "1  7b72c92c2f6c40268628ec5f14c6d590  2016-04-30 03:22:56 +0000   \n",
       "\n",
       "                                                                                           product_url  \\\n",
       "0  http://www.flipkart.com/elegance-polyester-multicolor-abstract-eyelet-door-curtain/p/itmeg7bkzdg...   \n",
       "1           http://www.flipkart.com/sathiyas-cotton-bath-towel/p/itmegfzhxbyucwgn?pid=BTWEGFZHGBXPHZUH   \n",
       "\n",
       "                                                 product_name  \\\n",
       "0  Elegance Polyester Multicolor Abstract Eyelet Door Curtain   \n",
       "1                                  Sathiyas Cotton Bath Towel   \n",
       "\n",
       "                                                                                 product_category_tree  \\\n",
       "0  [\"Home Furnishing >> Curtains & Accessories >> Curtains >> Elegance Polyester Multicolor Abstrac...   \n",
       "1  [\"Baby Care >> Baby Bath & Skin >> Baby Bath Towels >> Sathiyas Baby Bath Towels >> Sathiyas Cot...   \n",
       "\n",
       "                pid  retail_price  discounted_price  \\\n",
       "0  CRNEG7BKMFFYHQ8Z       1899.00            899.00   \n",
       "1  BTWEGFZHGBXPHZUH        600.00            449.00   \n",
       "\n",
       "                                  image  is_FK_Advantage_product  \\\n",
       "0  55b85ea15a1536d46b7190ad6fff8ce7.jpg                    False   \n",
       "1  7b72c92c2f6c40268628ec5f14c6d590.jpg                    False   \n",
       "\n",
       "                                                                                           description  \\\n",
       "0  Key Features of Elegance Polyester Multicolor Abstract Eyelet Door Curtain Floral Curtain,Elegan...   \n",
       "1  Specifications of Sathiyas Cotton Bath Towel (3 Bath Towel, Red, Yellow, Blue) Bath Towel Featur...   \n",
       "\n",
       "        product_rating       overall_rating     brand  \\\n",
       "0  No rating available  No rating available  Elegance   \n",
       "1  No rating available  No rating available  Sathiyas   \n",
       "\n",
       "                                                                                product_specifications  \n",
       "0  {\"product_specification\"=>[{\"key\"=>\"Brand\", \"value\"=>\"Elegance\"}, {\"key\"=>\"Designed For\", \"value...  \n",
       "1  {\"product_specification\"=>[{\"key\"=>\"Machine Washable\", \"value\"=>\"Yes\"}, {\"key\"=>\"Material\", \"val...  "
      ]
     },
     "execution_count": 13,
     "metadata": {},
     "output_type": "execute_result"
    }
   ],
   "source": [
    "df_data = pd.read_csv(RAW_DATA, sep=',', header=0, encoding='UTF-8')\n",
    "df_data.head(2)\n"
   ]
  },
  {
   "cell_type": "markdown",
   "metadata": {},
   "source": [
    "### Nettoyage\n"
   ]
  },
  {
   "cell_type": "code",
   "execution_count": 14,
   "metadata": {},
   "outputs": [
    {
     "name": "stdout",
     "output_type": "stream",
     "text": [
      "<class 'pandas.core.frame.DataFrame'>\n",
      "RangeIndex: 1050 entries, 0 to 1049\n",
      "Data columns (total 15 columns):\n",
      " #   Column                   Non-Null Count  Dtype  \n",
      "---  ------                   --------------  -----  \n",
      " 0   uniq_id                  1050 non-null   object \n",
      " 1   crawl_timestamp          1050 non-null   object \n",
      " 2   product_url              1050 non-null   object \n",
      " 3   product_name             1050 non-null   object \n",
      " 4   product_category_tree    1050 non-null   object \n",
      " 5   pid                      1050 non-null   object \n",
      " 6   retail_price             1049 non-null   float64\n",
      " 7   discounted_price         1049 non-null   float64\n",
      " 8   image                    1050 non-null   object \n",
      " 9   is_FK_Advantage_product  1050 non-null   bool   \n",
      " 10  description              1050 non-null   object \n",
      " 11  product_rating           1050 non-null   object \n",
      " 12  overall_rating           1050 non-null   object \n",
      " 13  brand                    712 non-null    object \n",
      " 14  product_specifications   1049 non-null   object \n",
      "dtypes: bool(1), float64(2), object(12)\n",
      "memory usage: 116.0+ KB\n"
     ]
    }
   ],
   "source": [
    "df_data.info()\n"
   ]
  },
  {
   "cell_type": "markdown",
   "metadata": {},
   "source": [
    "Il y a peu de données manquantes:\n",
    "\n",
    "- 1 prix non-indiqué\n",
    "- 75% des données n'ont pas de brand\n"
   ]
  },
  {
   "cell_type": "markdown",
   "metadata": {},
   "source": [
    "### Catégories\n",
    "\n",
    "L'objectif est de pouvoir classifier les produits dans le `product_category_tree` de façon automatique.\n"
   ]
  },
  {
   "cell_type": "code",
   "execution_count": 15,
   "metadata": {},
   "outputs": [
    {
     "name": "stdout",
     "output_type": "stream",
     "text": [
      "642\n",
      "639\n"
     ]
    }
   ],
   "source": [
    "print(df_data['product_category_tree'].nunique())\n",
    "print(df_data['product_category_tree'].str.lower().nunique())\n"
   ]
  },
  {
   "cell_type": "markdown",
   "metadata": {},
   "source": [
    "Avec 1000 echantillons, il sera dificil d'automatiser la classification en 640 catégories.\n",
    "\n",
    "On regard les niveaux plus haut de l'arbre.\n"
   ]
  },
  {
   "cell_type": "code",
   "execution_count": 16,
   "metadata": {},
   "outputs": [
    {
     "data": {
      "text/plain": [
       "1"
      ]
     },
     "execution_count": 16,
     "metadata": {},
     "output_type": "execute_result"
    }
   ],
   "source": [
    "def get_category_count(row):\n",
    "    \"\"\"obtenir le nombre de catégories pour un produit\"\"\"\n",
    "    return row.count('[')\n",
    "\n",
    "\n",
    "df_data['product_category_tree'].map(lambda x: get_category_count(x)).max()\n"
   ]
  },
  {
   "cell_type": "markdown",
   "metadata": {},
   "source": [
    "Chaque produit est associe à seulement une categorie dans le category tree\n",
    "\n",
    "La colonne `product_category_tree` est un arbre, separé par '>>'.\n",
    "\n",
    "Quel est son profondeur ?\n"
   ]
  },
  {
   "cell_type": "code",
   "execution_count": 17,
   "metadata": {},
   "outputs": [
    {
     "data": {
      "text/plain": [
       "7"
      ]
     },
     "execution_count": 17,
     "metadata": {},
     "output_type": "execute_result"
    }
   ],
   "source": [
    "def get_depth(categorie: str) -> int:\n",
    "    \"\"\"obtenir le nombre de niveaux de catégories\"\"\"\n",
    "    return len(categorie.split(' >> '))\n",
    "\n",
    "\n",
    "df_data['product_category_tree'].map(lambda x: get_depth(x)).max()\n"
   ]
  },
  {
   "cell_type": "markdown",
   "metadata": {},
   "source": [
    "Les produits ont jusqu'à 7 niveaux de catégorie\n"
   ]
  },
  {
   "cell_type": "code",
   "execution_count": 18,
   "metadata": {},
   "outputs": [
    {
     "data": {
      "text/plain": [
       "0    [Home Furnishing,  Curtains & Accessories,  Curtains,  Elegance Polyester Multicolor Abstract Ey...\n",
       "1    [Baby Care,  Baby Bath & Skin,  Baby Bath Towels,  Sathiyas Baby Bath Towels,  Sathiyas Cotton B...\n",
       "2    [Baby Care,  Baby Bath & Skin,  Baby Bath Towels,  Eurospa Baby Bath Towels,  Eurospa Cotton Ter...\n",
       "3    [Home Furnishing,  Bed Linen,  Bedsheets,  SANTOSH ROYAL FASHION Bedsheets,  SANTOSH ROYAL FASHI...\n",
       "4    [Home Furnishing,  Bed Linen,  Bedsheets,  Jaipur Print Bedsheets,  Jaipur Print Cotton Floral K...\n",
       "Name: product_category_tree, dtype: object"
      ]
     },
     "execution_count": 18,
     "metadata": {},
     "output_type": "execute_result"
    }
   ],
   "source": [
    "\n",
    "df_data['product_category_tree'].str.lstrip('[\"').str.split(' >>').head()\n"
   ]
  },
  {
   "cell_type": "code",
   "execution_count": 19,
   "metadata": {},
   "outputs": [
    {
     "name": "stdout",
     "output_type": "stream",
     "text": [
      "(1050, 7)\n"
     ]
    }
   ],
   "source": [
    "def remove_brackets(node:str):\n",
    "    node=node.replace('[\"','').replace('\"]','')\n",
    "    return node\n",
    "\n",
    "def create_categ_level(df):\n",
    "    df_cat = (df['product_category_tree']\n",
    "                .map(lambda x:remove_brackets(x))\n",
    "                .str.split(' >> ', expand=True))\n",
    "    print(df_cat.shape)\n",
    "    depth= len(df_cat.columns)\n",
    "    df_cat.columns=[f'categ_level_{i}' for i in range(1,depth+1)]\n",
    "    return pd.concat([df,df_cat], axis=1)\n",
    "    # return df_cat\n",
    "\n",
    "df_cleaned = df_data.pipe(create_categ_level)\n",
    "    "
   ]
  },
  {
   "cell_type": "markdown",
   "metadata": {},
   "source": [
    "### Categorie niveau 1\n"
   ]
  },
  {
   "cell_type": "code",
   "execution_count": 20,
   "metadata": {},
   "outputs": [
    {
     "data": {
      "text/plain": [
       "Home Decor & Festive Needs    150\n",
       "Beauty and Personal Care      150\n",
       "Baby Care                     150\n",
       "Home Furnishing               150\n",
       "Watches                       150\n",
       "Computers                     150\n",
       "Kitchen & Dining              150\n",
       "Name: categ_level_1, dtype: int64"
      ]
     },
     "execution_count": 20,
     "metadata": {},
     "output_type": "execute_result"
    }
   ],
   "source": [
    "df_cleaned['categ_level_1'].value_counts()\n"
   ]
  },
  {
   "cell_type": "markdown",
   "metadata": {},
   "source": [
    "On peux essayer de classifier par niveau 1\n"
   ]
  },
  {
   "cell_type": "markdown",
   "metadata": {},
   "source": [
    "### Catégories - niveau 2\n"
   ]
  },
  {
   "cell_type": "code",
   "execution_count": 21,
   "metadata": {},
   "outputs": [
    {
     "name": "stdout",
     "output_type": "stream",
     "text": [
      "62\n"
     ]
    },
    {
     "data": {
      "text/html": [
       "<div>\n",
       "<style scoped>\n",
       "    .dataframe tbody tr th:only-of-type {\n",
       "        vertical-align: middle;\n",
       "    }\n",
       "\n",
       "    .dataframe tbody tr th {\n",
       "        vertical-align: top;\n",
       "    }\n",
       "\n",
       "    .dataframe thead th {\n",
       "        text-align: right;\n",
       "    }\n",
       "</style>\n",
       "<table border=\"1\" class=\"dataframe\">\n",
       "  <thead>\n",
       "    <tr style=\"text-align: right;\">\n",
       "      <th></th>\n",
       "      <th>categ_level_2</th>\n",
       "      <th>cum_sum</th>\n",
       "    </tr>\n",
       "  </thead>\n",
       "  <tbody>\n",
       "    <tr>\n",
       "      <th>Wrist Watches</th>\n",
       "      <td>149</td>\n",
       "      <td>149</td>\n",
       "    </tr>\n",
       "    <tr>\n",
       "      <th>Laptop Accessories</th>\n",
       "      <td>87</td>\n",
       "      <td>236</td>\n",
       "    </tr>\n",
       "    <tr>\n",
       "      <th>Infant Wear</th>\n",
       "      <td>84</td>\n",
       "      <td>320</td>\n",
       "    </tr>\n",
       "    <tr>\n",
       "      <th>Coffee Mugs</th>\n",
       "      <td>74</td>\n",
       "      <td>394</td>\n",
       "    </tr>\n",
       "    <tr>\n",
       "      <th>Showpieces</th>\n",
       "      <td>71</td>\n",
       "      <td>465</td>\n",
       "    </tr>\n",
       "    <tr>\n",
       "      <th>Fragrances</th>\n",
       "      <td>65</td>\n",
       "      <td>530</td>\n",
       "    </tr>\n",
       "    <tr>\n",
       "      <th>Bed Linen</th>\n",
       "      <td>65</td>\n",
       "      <td>595</td>\n",
       "    </tr>\n",
       "    <tr>\n",
       "      <th>Network Components</th>\n",
       "      <td>49</td>\n",
       "      <td>644</td>\n",
       "    </tr>\n",
       "    <tr>\n",
       "      <th>Cookware</th>\n",
       "      <td>27</td>\n",
       "      <td>671</td>\n",
       "    </tr>\n",
       "    <tr>\n",
       "      <th>Table Decor &amp; Handicrafts</th>\n",
       "      <td>27</td>\n",
       "      <td>698</td>\n",
       "    </tr>\n",
       "    <tr>\n",
       "      <th>Combos and Kits</th>\n",
       "      <td>24</td>\n",
       "      <td>722</td>\n",
       "    </tr>\n",
       "    <tr>\n",
       "      <th>Wall Decor &amp; Clocks</th>\n",
       "      <td>22</td>\n",
       "      <td>744</td>\n",
       "    </tr>\n",
       "    <tr>\n",
       "      <th>Bath Linen</th>\n",
       "      <td>21</td>\n",
       "      <td>765</td>\n",
       "    </tr>\n",
       "    <tr>\n",
       "      <th>Curtains &amp; Accessories</th>\n",
       "      <td>19</td>\n",
       "      <td>784</td>\n",
       "    </tr>\n",
       "    <tr>\n",
       "      <th>Makeup</th>\n",
       "      <td>18</td>\n",
       "      <td>802</td>\n",
       "    </tr>\n",
       "    <tr>\n",
       "      <th>Baby Bedding</th>\n",
       "      <td>15</td>\n",
       "      <td>817</td>\n",
       "    </tr>\n",
       "    <tr>\n",
       "      <th>Baby &amp; Kids Gifts</th>\n",
       "      <td>15</td>\n",
       "      <td>832</td>\n",
       "    </tr>\n",
       "    <tr>\n",
       "      <th>Body and Skin Care</th>\n",
       "      <td>15</td>\n",
       "      <td>847</td>\n",
       "    </tr>\n",
       "    <tr>\n",
       "      <th>Kitchen Tools</th>\n",
       "      <td>14</td>\n",
       "      <td>861</td>\n",
       "    </tr>\n",
       "    <tr>\n",
       "      <th>Decorative Lighting &amp; Lamps</th>\n",
       "      <td>14</td>\n",
       "      <td>875</td>\n",
       "    </tr>\n",
       "  </tbody>\n",
       "</table>\n",
       "</div>"
      ],
      "text/plain": [
       "                             categ_level_2  cum_sum\n",
       "Wrist Watches                          149      149\n",
       "Laptop Accessories                      87      236\n",
       "Infant Wear                             84      320\n",
       "Coffee Mugs                             74      394\n",
       "Showpieces                              71      465\n",
       "Fragrances                              65      530\n",
       "Bed Linen                               65      595\n",
       "Network Components                      49      644\n",
       "Cookware                                27      671\n",
       "Table Decor & Handicrafts               27      698\n",
       "Combos and Kits                         24      722\n",
       "Wall Decor & Clocks                     22      744\n",
       "Bath Linen                              21      765\n",
       "Curtains & Accessories                  19      784\n",
       "Makeup                                  18      802\n",
       "Baby Bedding                            15      817\n",
       "Baby & Kids Gifts                       15      832\n",
       "Body and Skin Care                      15      847\n",
       "Kitchen Tools                           14      861\n",
       "Decorative Lighting & Lamps             14      875"
      ]
     },
     "execution_count": 21,
     "metadata": {},
     "output_type": "execute_result"
    }
   ],
   "source": [
    "print(df_cleaned['categ_level_2'].nunique())\n",
    "pd.concat([df_cleaned['categ_level_2'].value_counts().head(20),\n",
    "           df_cleaned['categ_level_2'].value_counts(\n",
    ").cumsum().head(20).rename('cum_sum'),\n",
    "], axis=1)\n"
   ]
  },
  {
   "cell_type": "markdown",
   "metadata": {},
   "source": [
    "Pour l'arbre de categories, 90% des produits sont dans les 20 plus grands catégories de niveau 2.\n",
    "\n",
    "- On peut evaluer la performance de classification à niveau 2\n"
   ]
  },
  {
   "cell_type": "markdown",
   "metadata": {},
   "source": [
    "## Préparation des déscriptions des données\n",
    "\n",
    "L'objectif est d'utiliser les déscriptions des données pour classifier dans les catégories de niveaux 1, 2, 3...\n",
    "\n",
    "Il faut préparer les déscriptions:\n",
    "\n",
    "- mettre tout en minuscule\n",
    "- retire les mots de liaison,\n",
    "- retirer la ponctuation\n",
    "\n",
    "On utilise la librairie nltk (Natural Language Toolkit), pour aider la nettoyage\n"
   ]
  },
  {
   "cell_type": "markdown",
   "metadata": {},
   "source": [
    "### Nettoyage du texte\n",
    "\n",
    "#### Import des librairies\n"
   ]
  },
  {
   "cell_type": "code",
   "execution_count": 22,
   "metadata": {},
   "outputs": [
    {
     "name": "stderr",
     "output_type": "stream",
     "text": [
      "[nltk_data] Downloading package stopwords to\n",
      "[nltk_data]     C:\\Users\\mc\\AppData\\Roaming\\nltk_data...\n",
      "[nltk_data]   Package stopwords is already up-to-date!\n",
      "[nltk_data] Downloading package punkt to\n",
      "[nltk_data]     C:\\Users\\mc\\AppData\\Roaming\\nltk_data...\n",
      "[nltk_data]   Package punkt is already up-to-date!\n",
      "[nltk_data] Downloading package wordnet to\n",
      "[nltk_data]     C:\\Users\\mc\\AppData\\Roaming\\nltk_data...\n",
      "[nltk_data]   Package wordnet is already up-to-date!\n",
      "[nltk_data] Downloading package omw-1.4 to\n",
      "[nltk_data]     C:\\Users\\mc\\AppData\\Roaming\\nltk_data...\n",
      "[nltk_data]   Package omw-1.4 is already up-to-date!\n"
     ]
    }
   ],
   "source": [
    "import nltk\n",
    "\n",
    "# stopwords\n",
    "nltk.download('stopwords')\n",
    "# punctuation\n",
    "nltk.download('punkt')\n",
    "# lemmatization\n",
    "nltk.download('wordnet')\n",
    "# Open Multilingual Wordnet Project lemmatizations\n",
    "nltk.download('omw-1.4')\n",
    "pass\n"
   ]
  },
  {
   "cell_type": "markdown",
   "metadata": {},
   "source": [
    "### Tokenization\n"
   ]
  },
  {
   "cell_type": "code",
   "execution_count": 23,
   "metadata": {},
   "outputs": [
    {
     "name": "stdout",
     "output_type": "stream",
     "text": [
      "['Camerii', 'WM64', 'Elegance', 'Analog', 'Watch', 'For', 'Men', ',', 'Boys', 'Buy', 'Camerii', 'WM64', 'Elegance', 'Analog', 'Watch', 'For', 'Men', ',', 'Boys', 'WM64', 'Online', 'at', 'Rs', '.', '449', 'in', 'India', 'Only', 'at', 'Flipkart', '.', 'com', '.', 'Great', 'Discounts', ',', 'Only', 'Genuine', 'Products', ',', '30', 'Day', 'Replacement', 'Guarantee', ',', 'Free', 'Shipping', '.', 'Cash', 'On', 'Delivery', '!']\n"
     ]
    }
   ],
   "source": [
    "# Tokenizer\n",
    "import nltk\n",
    "from nltk.tokenize import sent_tokenize, word_tokenize\n",
    "\n",
    "\n",
    "def tokenizer_fct(sentence):\n",
    "    # print(sentence)\n",
    "    sentence_clean = (sentence\n",
    "                      .replace('-', ' ')\n",
    "                      .replace('+', ' ')\n",
    "                      .replace('/', ' ')\n",
    "                      .replace('.', '. ')\n",
    "                      .replace('#', ' '))\n",
    "    word_tokens = word_tokenize(sentence_clean)\n",
    "    return word_tokens\n",
    "\n",
    "\n",
    "print(tokenizer_fct(df_data['description'][6]))\n"
   ]
  },
  {
   "cell_type": "markdown",
   "metadata": {},
   "source": [
    "### Stop words\n"
   ]
  },
  {
   "cell_type": "code",
   "execution_count": 24,
   "metadata": {},
   "outputs": [
    {
     "name": "stdout",
     "output_type": "stream",
     "text": [
      "['Camerii', 'WM64', 'Elegance', 'Analog', 'Watch', 'For', 'Men', 'Boys', 'Buy', 'Camerii', 'WM64', 'Elegance', 'Analog', 'Watch', 'For', 'Men', 'Boys', 'WM64', 'Online', '449', 'India', 'Only', 'Flipkart', 'com', 'Great', 'Discounts', 'Only', 'Genuine', 'Products', 'Day', 'Replacement', 'Guarantee', 'Free', 'Shipping', 'Cash', 'Delivery']\n"
     ]
    }
   ],
   "source": [
    "from typing import List\n",
    "from nltk.corpus import stopwords\n",
    "\n",
    "stop_w = list(set(stopwords.words('english'))) + \\\n",
    "    ['[', ']', ',', '.', ':', '?', '(', ')']\n",
    "\n",
    "\n",
    "def stop_word_filter_fct(list_words: List[str]) -> List[str]:\n",
    "    \"\"\"Stop words\"\"\"\n",
    "    filtered_w = [w for w in list_words if not w in stop_w]\n",
    "    filtered_w2 = [w for w in filtered_w if len(w) > 2]\n",
    "    return filtered_w2\n",
    "\n",
    "\n",
    "print(stop_word_filter_fct(tokenizer_fct(df_data['description'][6])))\n"
   ]
  },
  {
   "cell_type": "code",
   "execution_count": 25,
   "metadata": {},
   "outputs": [
    {
     "name": "stdout",
     "output_type": "stream",
     "text": [
      "['Camerii', 'WM64', 'Elegance', 'Analog', 'Watch', 'For', 'Men', 'Boys', 'Buy', 'Camerii', 'WM64', 'Elegance', 'Analog', 'Watch', 'For', 'Men', 'Boys', 'WM64', 'Online', '449', 'India', 'Only', 'Flipkart', 'com', 'Great', 'Discounts', 'Only', 'Genuine', 'Products', 'Day', 'Replacement', 'Guarantee', 'Free', 'Shipping', 'Cash', 'Delivery']\n"
     ]
    }
   ],
   "source": [
    "print(stop_word_filter_fct(tokenizer_fct(df_data['description'][6])))\n"
   ]
  },
  {
   "cell_type": "code",
   "execution_count": 26,
   "metadata": {},
   "outputs": [
    {
     "name": "stdout",
     "output_type": "stream",
     "text": [
      "['camerii', 'wm64', 'elegance', 'analog', 'watch', 'for', 'men', 'boys', 'buy', 'camerii', 'wm64', 'elegance', 'analog', 'watch', 'for', 'men', 'boys', 'wm64', 'online', '449', 'india', 'only', 'flipkart', 'com', 'great', 'discounts', 'only', 'genuine', 'products', 'day', 'replacement', 'guarantee', 'free', 'shipping', 'cash', 'delivery']\n"
     ]
    }
   ],
   "source": [
    "from typing import List\n",
    "\n",
    "\n",
    "def lower_start_fct(list_words: List[str]) -> List[str]:\n",
    "    \"\"\"lower case et alpha\"\"\"\n",
    "    lw = [w.lower() for w in list_words if (not w.startswith(\"@\"))\n",
    "          #                                   and (not w.startswith(\"#\"))\n",
    "          and (not w.startswith(\"http\"))]\n",
    "    return lw\n",
    "\n",
    "\n",
    "print(lower_start_fct(stop_word_filter_fct(\n",
    "    tokenizer_fct(df_data['description'][6]))))\n"
   ]
  },
  {
   "cell_type": "markdown",
   "metadata": {},
   "source": []
  },
  {
   "cell_type": "code",
   "execution_count": 27,
   "metadata": {},
   "outputs": [],
   "source": [
    "from typing import List\n",
    "from nltk.stem import WordNetLemmatizer\n",
    "\n",
    "\n",
    "def lemma_fct(list_words: List[str]) -> List[str]:\n",
    "    \"\"\"\n",
    "    Lemmatizer (base d'un mot)\n",
    "    \"\"\"\n",
    "    lemmatizer = WordNetLemmatizer()\n",
    "    lem_w = [lemmatizer.lemmatize(w) for w in list_words]\n",
    "    return lem_w\n"
   ]
  },
  {
   "cell_type": "code",
   "execution_count": 28,
   "metadata": {},
   "outputs": [
    {
     "name": "stdout",
     "output_type": "stream",
     "text": [
      "['camerii', 'wm64', 'elegance', 'analog', 'watch', 'for', 'men', 'boy', 'buy', 'camerii', 'wm64', 'elegance', 'analog', 'watch', 'for', 'men', 'boy', 'wm64', 'online', '449', 'india', 'only', 'flipkart', 'com', 'great', 'discount', 'only', 'genuine', 'product', 'day', 'replacement', 'guarantee', 'free', 'shipping', 'cash', 'delivery']\n"
     ]
    }
   ],
   "source": [
    "# test de lemmatizer\n",
    "print(lemma_fct(lower_start_fct(\n",
    "    stop_word_filter_fct(tokenizer_fct(df_data['description'][6])))))\n"
   ]
  },
  {
   "cell_type": "markdown",
   "metadata": {},
   "source": [
    "# Préparation commune des traitements\n"
   ]
  },
  {
   "cell_type": "code",
   "execution_count": 29,
   "metadata": {},
   "outputs": [],
   "source": [
    "from nltk.tokenize import sent_tokenize, word_tokenize\n",
    "\n",
    "\n",
    "\n",
    "def transform_bow_fct(desc_text):\n",
    "    \"\"\"\n",
    "    Fonction de préparation du texte pour le bag of words\n",
    "    (Countvectorizer et Tf_idf, Word2Vec)\n",
    "    \"\"\"\n",
    "    word_tokens = tokenizer_fct(desc_text)\n",
    "    sw = stop_word_filter_fct(word_tokens)\n",
    "    lw = lower_start_fct(sw)\n",
    "    # lem_w = lemma_fct(lw)\n",
    "    transf_desc_text = ' '.join(lw)\n",
    "    return transf_desc_text\n",
    "\n",
    "\n",
    "def transform_bow_lem_fct(desc_text):\n",
    "    \"\"\"\n",
    "    Fonction de préparation du texte pour le bag of words \n",
    "    avec lemmatization\n",
    "    \"\"\"\n",
    "    word_tokens = tokenizer_fct(desc_text)\n",
    "    sw = stop_word_filter_fct(word_tokens)\n",
    "    lw = lower_start_fct(sw)\n",
    "    lem_w = lemma_fct(lw)\n",
    "    transf_desc_text = ' '.join(lem_w)\n",
    "    return transf_desc_text\n",
    "\n",
    "\n",
    "def transform_dl_fct(desc_text):\n",
    "    \"\"\"\n",
    "    Fonction de préparation du texte pour le Deep learning \n",
    "    (USE et BERT)\n",
    "    \"\"\"\n",
    "    word_tokens = tokenizer_fct(desc_text)\n",
    "#    sw = stop_word_filter_fct(word_tokens)\n",
    "    lw = lower_start_fct(word_tokens)\n",
    "    # lem_w = lemma_fct(lw)\n",
    "    transf_desc_text = ' '.join(lw)\n",
    "    return transf_desc_text\n"
   ]
  },
  {
   "cell_type": "code",
   "execution_count": 30,
   "metadata": {},
   "outputs": [
    {
     "name": "stdout",
     "output_type": "stream",
     "text": [
      "(1050, 25)\n"
     ]
    },
    {
     "data": {
      "text/html": [
       "<div>\n",
       "<style scoped>\n",
       "    .dataframe tbody tr th:only-of-type {\n",
       "        vertical-align: middle;\n",
       "    }\n",
       "\n",
       "    .dataframe tbody tr th {\n",
       "        vertical-align: top;\n",
       "    }\n",
       "\n",
       "    .dataframe thead th {\n",
       "        text-align: right;\n",
       "    }\n",
       "</style>\n",
       "<table border=\"1\" class=\"dataframe\">\n",
       "  <thead>\n",
       "    <tr style=\"text-align: right;\">\n",
       "      <th></th>\n",
       "      <th>uniq_id</th>\n",
       "      <th>crawl_timestamp</th>\n",
       "      <th>product_url</th>\n",
       "      <th>product_name</th>\n",
       "      <th>product_category_tree</th>\n",
       "      <th>pid</th>\n",
       "      <th>retail_price</th>\n",
       "      <th>discounted_price</th>\n",
       "      <th>image</th>\n",
       "      <th>is_FK_Advantage_product</th>\n",
       "      <th>description</th>\n",
       "      <th>product_rating</th>\n",
       "      <th>overall_rating</th>\n",
       "      <th>brand</th>\n",
       "      <th>product_specifications</th>\n",
       "      <th>categ_level_1</th>\n",
       "      <th>categ_level_2</th>\n",
       "      <th>categ_level_3</th>\n",
       "      <th>categ_level_4</th>\n",
       "      <th>categ_level_5</th>\n",
       "      <th>categ_level_6</th>\n",
       "      <th>categ_level_7</th>\n",
       "      <th>sentence_bow</th>\n",
       "      <th>sentence_bow_lem</th>\n",
       "      <th>sentence_dl</th>\n",
       "    </tr>\n",
       "  </thead>\n",
       "  <tbody>\n",
       "    <tr>\n",
       "      <th>0</th>\n",
       "      <td>55b85ea15a1536d46b7190ad6fff8ce7</td>\n",
       "      <td>2016-04-30 03:22:56 +0000</td>\n",
       "      <td>http://www.flipkart.com/elegance-polyester-multicolor-abstract-eyelet-door-curtain/p/itmeg7bkzdg...</td>\n",
       "      <td>Elegance Polyester Multicolor Abstract Eyelet Door Curtain</td>\n",
       "      <td>[\"Home Furnishing &gt;&gt; Curtains &amp; Accessories &gt;&gt; Curtains &gt;&gt; Elegance Polyester Multicolor Abstrac...</td>\n",
       "      <td>CRNEG7BKMFFYHQ8Z</td>\n",
       "      <td>1899.00</td>\n",
       "      <td>899.00</td>\n",
       "      <td>55b85ea15a1536d46b7190ad6fff8ce7.jpg</td>\n",
       "      <td>False</td>\n",
       "      <td>Key Features of Elegance Polyester Multicolor Abstract Eyelet Door Curtain Floral Curtain,Elegan...</td>\n",
       "      <td>No rating available</td>\n",
       "      <td>No rating available</td>\n",
       "      <td>Elegance</td>\n",
       "      <td>{\"product_specification\"=&gt;[{\"key\"=&gt;\"Brand\", \"value\"=&gt;\"Elegance\"}, {\"key\"=&gt;\"Designed For\", \"value...</td>\n",
       "      <td>Home Furnishing</td>\n",
       "      <td>Curtains &amp; Accessories</td>\n",
       "      <td>Curtains</td>\n",
       "      <td>Elegance Polyester Multicolor Abstract Eyelet Do...</td>\n",
       "      <td>None</td>\n",
       "      <td>None</td>\n",
       "      <td>None</td>\n",
       "      <td>key features elegance polyester multicolor abstract eyelet door curtain floral curtain elegance ...</td>\n",
       "      <td>key feature elegance polyester multicolor abstract eyelet door curtain floral curtain elegance p...</td>\n",
       "      <td>key features of elegance polyester multicolor abstract eyelet door curtain floral curtain , eleg...</td>\n",
       "    </tr>\n",
       "  </tbody>\n",
       "</table>\n",
       "</div>"
      ],
      "text/plain": [
       "                            uniq_id            crawl_timestamp  \\\n",
       "0  55b85ea15a1536d46b7190ad6fff8ce7  2016-04-30 03:22:56 +0000   \n",
       "\n",
       "                                                                                           product_url  \\\n",
       "0  http://www.flipkart.com/elegance-polyester-multicolor-abstract-eyelet-door-curtain/p/itmeg7bkzdg...   \n",
       "\n",
       "                                                 product_name  \\\n",
       "0  Elegance Polyester Multicolor Abstract Eyelet Door Curtain   \n",
       "\n",
       "                                                                                 product_category_tree  \\\n",
       "0  [\"Home Furnishing >> Curtains & Accessories >> Curtains >> Elegance Polyester Multicolor Abstrac...   \n",
       "\n",
       "                pid  retail_price  discounted_price  \\\n",
       "0  CRNEG7BKMFFYHQ8Z       1899.00            899.00   \n",
       "\n",
       "                                  image  is_FK_Advantage_product  \\\n",
       "0  55b85ea15a1536d46b7190ad6fff8ce7.jpg                    False   \n",
       "\n",
       "                                                                                           description  \\\n",
       "0  Key Features of Elegance Polyester Multicolor Abstract Eyelet Door Curtain Floral Curtain,Elegan...   \n",
       "\n",
       "        product_rating       overall_rating     brand  \\\n",
       "0  No rating available  No rating available  Elegance   \n",
       "\n",
       "                                                                                product_specifications  \\\n",
       "0  {\"product_specification\"=>[{\"key\"=>\"Brand\", \"value\"=>\"Elegance\"}, {\"key\"=>\"Designed For\", \"value...   \n",
       "\n",
       "     categ_level_1           categ_level_2 categ_level_3  \\\n",
       "0  Home Furnishing  Curtains & Accessories      Curtains   \n",
       "\n",
       "                                         categ_level_4 categ_level_5  \\\n",
       "0  Elegance Polyester Multicolor Abstract Eyelet Do...          None   \n",
       "\n",
       "  categ_level_6 categ_level_7  \\\n",
       "0          None          None   \n",
       "\n",
       "                                                                                          sentence_bow  \\\n",
       "0  key features elegance polyester multicolor abstract eyelet door curtain floral curtain elegance ...   \n",
       "\n",
       "                                                                                      sentence_bow_lem  \\\n",
       "0  key feature elegance polyester multicolor abstract eyelet door curtain floral curtain elegance p...   \n",
       "\n",
       "                                                                                           sentence_dl  \n",
       "0  key features of elegance polyester multicolor abstract eyelet door curtain floral curtain , eleg...  "
      ]
     },
     "execution_count": 30,
     "metadata": {},
     "output_type": "execute_result"
    }
   ],
   "source": [
    "\n",
    "def transform_field(df: pd.DataFrame, text_col: str = 'description'):\n",
    "    df = df.copy()\n",
    "    df['sentence_bow'] = df[text_col].apply(lambda x: transform_bow_fct(x))\n",
    "    df['sentence_bow_lem'] = df[text_col].apply(\n",
    "        lambda x: transform_bow_lem_fct(x))\n",
    "    df['sentence_dl'] = df[text_col].apply(lambda x: transform_dl_fct(x))\n",
    "    print(df.shape)\n",
    "    return df\n",
    "\n",
    "\n",
    "df_cleaned.pipe(transform_field).head(1)\n"
   ]
  },
  {
   "cell_type": "code",
   "execution_count": 31,
   "metadata": {},
   "outputs": [
    {
     "name": "stdout",
     "output_type": "stream",
     "text": [
      "(1050, 25)\n",
      "max length bow : 377\n",
      "max length dl : 636\n"
     ]
    },
    {
     "data": {
      "text/html": [
       "<div>\n",
       "<style scoped>\n",
       "    .dataframe tbody tr th:only-of-type {\n",
       "        vertical-align: middle;\n",
       "    }\n",
       "\n",
       "    .dataframe tbody tr th {\n",
       "        vertical-align: top;\n",
       "    }\n",
       "\n",
       "    .dataframe thead th {\n",
       "        text-align: right;\n",
       "    }\n",
       "</style>\n",
       "<table border=\"1\" class=\"dataframe\">\n",
       "  <thead>\n",
       "    <tr style=\"text-align: right;\">\n",
       "      <th></th>\n",
       "      <th>uniq_id</th>\n",
       "      <th>crawl_timestamp</th>\n",
       "      <th>product_url</th>\n",
       "      <th>product_name</th>\n",
       "      <th>product_category_tree</th>\n",
       "      <th>pid</th>\n",
       "      <th>retail_price</th>\n",
       "      <th>discounted_price</th>\n",
       "      <th>image</th>\n",
       "      <th>is_FK_Advantage_product</th>\n",
       "      <th>description</th>\n",
       "      <th>product_rating</th>\n",
       "      <th>overall_rating</th>\n",
       "      <th>brand</th>\n",
       "      <th>product_specifications</th>\n",
       "      <th>categ_level_1</th>\n",
       "      <th>categ_level_2</th>\n",
       "      <th>categ_level_3</th>\n",
       "      <th>categ_level_4</th>\n",
       "      <th>categ_level_5</th>\n",
       "      <th>categ_level_6</th>\n",
       "      <th>categ_level_7</th>\n",
       "      <th>sentence_bow</th>\n",
       "      <th>sentence_bow_lem</th>\n",
       "      <th>sentence_dl</th>\n",
       "      <th>length_bow</th>\n",
       "      <th>length_dl</th>\n",
       "    </tr>\n",
       "  </thead>\n",
       "  <tbody>\n",
       "    <tr>\n",
       "      <th>0</th>\n",
       "      <td>55b85ea15a1536d46b7190ad6fff8ce7</td>\n",
       "      <td>2016-04-30 03:22:56 +0000</td>\n",
       "      <td>http://www.flipkart.com/elegance-polyester-multicolor-abstract-eyelet-door-curtain/p/itmeg7bkzdg...</td>\n",
       "      <td>Elegance Polyester Multicolor Abstract Eyelet Door Curtain</td>\n",
       "      <td>[\"Home Furnishing &gt;&gt; Curtains &amp; Accessories &gt;&gt; Curtains &gt;&gt; Elegance Polyester Multicolor Abstrac...</td>\n",
       "      <td>CRNEG7BKMFFYHQ8Z</td>\n",
       "      <td>1899.00</td>\n",
       "      <td>899.00</td>\n",
       "      <td>55b85ea15a1536d46b7190ad6fff8ce7.jpg</td>\n",
       "      <td>False</td>\n",
       "      <td>Key Features of Elegance Polyester Multicolor Abstract Eyelet Door Curtain Floral Curtain,Elegan...</td>\n",
       "      <td>No rating available</td>\n",
       "      <td>No rating available</td>\n",
       "      <td>Elegance</td>\n",
       "      <td>{\"product_specification\"=&gt;[{\"key\"=&gt;\"Brand\", \"value\"=&gt;\"Elegance\"}, {\"key\"=&gt;\"Designed For\", \"value...</td>\n",
       "      <td>Home Furnishing</td>\n",
       "      <td>Curtains &amp; Accessories</td>\n",
       "      <td>Curtains</td>\n",
       "      <td>Elegance Polyester Multicolor Abstract Eyelet Do...</td>\n",
       "      <td>None</td>\n",
       "      <td>None</td>\n",
       "      <td>None</td>\n",
       "      <td>key features elegance polyester multicolor abstract eyelet door curtain floral curtain elegance ...</td>\n",
       "      <td>key feature elegance polyester multicolor abstract eyelet door curtain floral curtain elegance p...</td>\n",
       "      <td>key features of elegance polyester multicolor abstract eyelet door curtain floral curtain , eleg...</td>\n",
       "      <td>158</td>\n",
       "      <td>258</td>\n",
       "    </tr>\n",
       "  </tbody>\n",
       "</table>\n",
       "</div>"
      ],
      "text/plain": [
       "                            uniq_id            crawl_timestamp  \\\n",
       "0  55b85ea15a1536d46b7190ad6fff8ce7  2016-04-30 03:22:56 +0000   \n",
       "\n",
       "                                                                                           product_url  \\\n",
       "0  http://www.flipkart.com/elegance-polyester-multicolor-abstract-eyelet-door-curtain/p/itmeg7bkzdg...   \n",
       "\n",
       "                                                 product_name  \\\n",
       "0  Elegance Polyester Multicolor Abstract Eyelet Door Curtain   \n",
       "\n",
       "                                                                                 product_category_tree  \\\n",
       "0  [\"Home Furnishing >> Curtains & Accessories >> Curtains >> Elegance Polyester Multicolor Abstrac...   \n",
       "\n",
       "                pid  retail_price  discounted_price  \\\n",
       "0  CRNEG7BKMFFYHQ8Z       1899.00            899.00   \n",
       "\n",
       "                                  image  is_FK_Advantage_product  \\\n",
       "0  55b85ea15a1536d46b7190ad6fff8ce7.jpg                    False   \n",
       "\n",
       "                                                                                           description  \\\n",
       "0  Key Features of Elegance Polyester Multicolor Abstract Eyelet Door Curtain Floral Curtain,Elegan...   \n",
       "\n",
       "        product_rating       overall_rating     brand  \\\n",
       "0  No rating available  No rating available  Elegance   \n",
       "\n",
       "                                                                                product_specifications  \\\n",
       "0  {\"product_specification\"=>[{\"key\"=>\"Brand\", \"value\"=>\"Elegance\"}, {\"key\"=>\"Designed For\", \"value...   \n",
       "\n",
       "     categ_level_1           categ_level_2 categ_level_3  \\\n",
       "0  Home Furnishing  Curtains & Accessories      Curtains   \n",
       "\n",
       "                                         categ_level_4 categ_level_5  \\\n",
       "0  Elegance Polyester Multicolor Abstract Eyelet Do...          None   \n",
       "\n",
       "  categ_level_6 categ_level_7  \\\n",
       "0          None          None   \n",
       "\n",
       "                                                                                          sentence_bow  \\\n",
       "0  key features elegance polyester multicolor abstract eyelet door curtain floral curtain elegance ...   \n",
       "\n",
       "                                                                                      sentence_bow_lem  \\\n",
       "0  key feature elegance polyester multicolor abstract eyelet door curtain floral curtain elegance p...   \n",
       "\n",
       "                                                                                           sentence_dl  \\\n",
       "0  key features of elegance polyester multicolor abstract eyelet door curtain floral curtain , eleg...   \n",
       "\n",
       "   length_bow  length_dl  \n",
       "0         158        258  "
      ]
     },
     "execution_count": 31,
     "metadata": {},
     "output_type": "execute_result"
    }
   ],
   "source": [
    "\n",
    "def calc_length_bow(df: pd.DataFrame):\n",
    "    df = df.copy()\n",
    "    df['length_bow'] = df['sentence_bow'].apply(\n",
    "        lambda x: len(word_tokenize(x)))\n",
    "    print(f\"max length bow : {df['length_bow'].max()}\")\n",
    "    df['length_dl'] = df['sentence_dl'].apply(lambda x: len(word_tokenize(x)))\n",
    "    print(f\"max length dl : {df['length_dl'].max()}\")\n",
    "    return df\n",
    "\n",
    "\n",
    "(df_cleaned\n",
    " .pipe(transform_field)\n",
    " .pipe(calc_length_bow)\n",
    " .head(1))\n"
   ]
  },
  {
   "cell_type": "code",
   "execution_count": null,
   "metadata": {},
   "outputs": [],
   "source": []
  }
 ],
 "metadata": {
  "interpreter": {
   "hash": "08f54268de9884c973a82c2c5267bbf1de8fae7577a142dd199c5c3f90c0dd65"
  },
  "kernelspec": {
   "display_name": "Python 3.7.0 ('OC_3')",
   "language": "python",
   "name": "python3"
  },
  "language_info": {
   "codemirror_mode": {
    "name": "ipython",
    "version": 3
   },
   "file_extension": ".py",
   "mimetype": "text/x-python",
   "name": "python",
   "nbconvert_exporter": "python",
   "pygments_lexer": "ipython3",
   "version": "3.7.0"
  },
  "orig_nbformat": 4
 },
 "nbformat": 4,
 "nbformat_minor": 2
}
