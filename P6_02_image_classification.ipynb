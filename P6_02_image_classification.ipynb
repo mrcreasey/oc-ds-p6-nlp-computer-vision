{
 "cells": [
  {
   "cell_type": "markdown",
   "metadata": {},
   "source": [
    "# Classifiez automatiquement des biens de consommation\n",
    "\n",
    "- **Projet 6 du parcours « Data Scientist » d’OpenClassrooms**\n",
    "- **Mark Creasey**\n",
    "\n",
    "## Partie 2 : Classification des images\n"
   ]
  },
  {
   "cell_type": "markdown",
   "id": "0d238de5",
   "metadata": {},
   "source": [
    "<!--TABLE OF CONTENTS-->\n",
    "Contents:\n",
    "\n",
    "- [1. Compréhension du problème](#1.-Compréhension-du-problème)\n",
    "  - [1.1 Mission](#1.1-Mission)\n",
    "  - [1.2 Requirements : Bibliothèques utilisées dans ce notebook](#1.2-Requirements-:-Bibliothèques-utilisées-dans-ce-notebook)\n",
    "  - [1.3 Des fonctions utilitaires](#1.3-Des-fonctions-utilitaires)\n",
    "- [2. Import, nettoyage et analyse exploratoire des données](#2.-Import,-nettoyage-et-analyse-exploratoire-des-données)\n",
    "  - [2.1 Import des données textes pour récuperer les images](#2.1-Import-des-données-textes-pour-récuperer-les-images)\n",
    "  - [2.1 Import des images (lecture)](#2.1-Import-des-images-(lecture))\n",
    "  - [2.2 Nettoyage des données](#2.2-Nettoyage-des-données)\n",
    "  - [3.1 Préparation des catégories](#3.1-Préparation-des-catégories)\n",
    "  - [Enregistre les données préparées](#Enregistre-les-données-préparées)\n",
    "  - [Nettoyage des variables globales](#Nettoyage-des-variables-globales)\n",
    "- [4. Fonctions communs pour modèles classification](#4.-Fonctions-communs-pour-modèles-classification)\n",
    "  - [4.1 Lecture des données](#4.1-Lecture-des-données)\n",
    "  - [4.2 Modélisation et évaluation des modèles:](#4.2-Modélisation-et-évaluation-des-modèles:)\n",
    "  - [4.3 Visualisations de metriques de performance](#4.3-Visualisations-de-metriques-de-performance)\n",
    "  - [4.4 Visualisation des clusters sur les 'reduced_dimensions'](#4.4-Visualisation-des-clusters-sur-les-'reduced_dimensions')\n",
    "- [9. Enregistrement des résultats](#9.-Enregistrement-des-résultats)\n"
   ]
  },
  {
   "cell_type": "markdown",
   "metadata": {},
   "source": [
    "# 1. Compréhension du problème\n",
    "\n",
    "## 1.1 Mission\n",
    "\n",
    "Etudier la faisabilité d'un **moteur de classification** des articles en différentes catégories,\n",
    "avec un niveau de précision suffisant.\n",
    "\n",
    "- **réaliser une première étude de faisabilité d'un moteur de classification**, d'articles, basé sur\n",
    "  une image et une description, pour l'automatisation de l'attribution de la catégorie de l'article.\n",
    "\n",
    "- **analyser le jeu de données** en **réalisant un prétraitement** des descriptions des produits et\n",
    "  des images, une **réduction de dimension**, puis un **clustering**, à présenter sous la forme de\n",
    "  graphiques en deux dimensions, et confirmés par un calcul de similarité entre les catégories\n",
    "  réelles et les clusters.\n",
    "- illustre que les caractéristiques extraites permettent de regrouper des produits de même\n",
    "  catégorie.\n",
    "\n",
    "- démontrer, par cette approche de modélisation, la faisabilité de regrouper automatiquement des\n",
    "  produits de même catégorie\n"
   ]
  },
  {
   "cell_type": "markdown",
   "metadata": {},
   "source": [
    "## 1.2 Requirements : Bibliothèques utilisées dans ce notebook\n",
    "\n",
    "- voir [`requirements.txt`](./requirements.txt) pour les versions des bibliothèques testées avec ce notebook\n"
   ]
  },
  {
   "cell_type": "code",
   "execution_count": 1,
   "metadata": {},
   "outputs": [],
   "source": [
    "# si ce notebook ne marche pas avec les versions\n",
    "# des bibliothèques dans votre environnement, alors\n",
    "# decommentarise la ligne suivant pour des versions testées:\n",
    "\n",
    "# %pip install -r requirements.txt\n"
   ]
  },
  {
   "cell_type": "code",
   "execution_count": 2,
   "metadata": {},
   "outputs": [],
   "source": [
    "def install_libraries(required={}) -> None:\n",
    "    \"\"\"\n",
    "    Installation des bibliothèques manquantes\n",
    "    https://stackoverflow.com/questions/44210656/\n",
    "    \"\"\"\n",
    "    import sys\n",
    "    import subprocess\n",
    "    import pkg_resources\n",
    "    installed = {pkg.key for pkg in pkg_resources.working_set}\n",
    "    missing = set(required) - set(installed)\n",
    "    if missing:\n",
    "        print(f'missing libraries: {missing}')\n",
    "        python = sys.executable\n",
    "        subprocess.check_call([python, '-m', 'pip', 'install', *missing],\n",
    "                              stdout=subprocess.DEVNULL)\n",
    "\n",
    "\n",
    "required_libraries = {'numpy', 'pandas',\n",
    "                      'matplotlib', 'seaborn', 'scikit-learn',\n",
    "                      'pillow'}\n",
    "install_libraries(required_libraries)\n"
   ]
  },
  {
   "cell_type": "markdown",
   "metadata": {},
   "source": [
    "### 1.2.1 Import des bibliothèques\n"
   ]
  },
  {
   "cell_type": "code",
   "execution_count": 3,
   "metadata": {},
   "outputs": [],
   "source": [
    "import os\n",
    "import numpy as np\n",
    "import pandas as pd\n",
    "import matplotlib.pyplot as plt\n",
    "import seaborn as sns\n",
    "import scipy\n",
    "import sklearn\n",
    "import PIL\n"
   ]
  },
  {
   "cell_type": "markdown",
   "metadata": {},
   "source": [
    "### 1.2.2 Liste des versions des bibliothèques utilisées\n"
   ]
  },
  {
   "cell_type": "code",
   "execution_count": 4,
   "metadata": {},
   "outputs": [
    {
     "name": "stdout",
     "output_type": "stream",
     "text": [
      "versions des bibliothèques utilisées:\n",
      "numpy==1.21.5; pandas==1.1.5; seaborn==0.11.2; scipy==1.7.3; sklearn==1.0.2; PIL==8.4.0\n"
     ]
    }
   ],
   "source": [
    "from platform import python_version\n",
    "\n",
    "python_version()\n",
    "print('versions des bibliothèques utilisées:')\n",
    "print('; '.join(f'{m.__name__}=={m.__version__}' for m in globals(\n",
    ").values() if getattr(m, '__version__', None)))\n"
   ]
  },
  {
   "cell_type": "markdown",
   "metadata": {},
   "source": [
    "### 1.2.3 Configuration défauts d'affichage\n"
   ]
  },
  {
   "cell_type": "code",
   "execution_count": 5,
   "metadata": {},
   "outputs": [],
   "source": [
    "from sklearn import set_config\n",
    "\n",
    "pd.set_option('display.max_columns', 200)  # pour afficher toutes les colonnes\n",
    "pd.set_option('display.max_rows', 20)  # pour afficher max 10 lignes\n",
    "pd.set_option('display.max_colwidth', 100)  # pour afficher toutes la text\n",
    "pd.set_option('display.precision', 2)\n",
    "pd.options.display.float_format = '{:.2f}'.format  # currency, lat,lng\n",
    "\n",
    "%matplotlib inline\n",
    "sns.set_theme(style=\"white\", context=\"notebook\")\n",
    "sns.set_color_codes(\"pastel\")\n",
    "sns.set_palette(\"tab20\")\n",
    "\n",
    "set_config(display='diagram')\n",
    "# displays HTML representation in a jupyter context\n"
   ]
  },
  {
   "cell_type": "markdown",
   "metadata": {},
   "source": [
    "### 1.2.4 Quelques constants\n"
   ]
  },
  {
   "cell_type": "code",
   "execution_count": 6,
   "metadata": {},
   "outputs": [],
   "source": [
    "# Definir RANDOM_SEED = None pour des résultats variables\n",
    "# Ici on définit RANDOM_SEED = constant seulement pour réproducibilité\n",
    "RANDOM_SEED = 42\n"
   ]
  },
  {
   "cell_type": "markdown",
   "metadata": {},
   "source": [
    "## 1.3 Des fonctions utilitaires\n",
    "\n",
    "### 1.3.1 Enregistrement des graphiques\n",
    "\n",
    "Pour enregistrer les graphiques, define **`SAVE_IMAGES = True`**\n"
   ]
  },
  {
   "cell_type": "code",
   "execution_count": 7,
   "metadata": {},
   "outputs": [],
   "source": [
    "SAVE_IMAGES = True\n",
    "IMAGE_FOLDER = './images/analyse'\n",
    "if not os.path.exists(IMAGE_FOLDER):\n",
    "    os.makedirs(IMAGE_FOLDER)\n"
   ]
  },
  {
   "cell_type": "code",
   "execution_count": 8,
   "metadata": {},
   "outputs": [],
   "source": [
    "def to_png(fig_name=None) -> None:\n",
    "    \"\"\"\n",
    "    Register the current plot figure as an image in a file.\n",
    "    Must call plt.show() or show image (by calling to_png() as last row in python cell)\n",
    "    to apply the call 'bbox_inches=tight', to be sure to include the whole title / legend\n",
    "    in the plot area.\n",
    "    \"\"\"\n",
    "\n",
    "    def get_title() -> str:\n",
    "        \"\"\"find current plot title (or suptitle if more than one plot)\"\"\"\n",
    "        if plt.gcf()._suptitle is None:  # noqa\n",
    "            return plt.gca().get_title()\n",
    "        else:\n",
    "            return plt.gcf()._suptitle.get_text()  # noqa\n",
    "\n",
    "    if SAVE_IMAGES:\n",
    "        if fig_name is None:\n",
    "            fig_name = get_title()\n",
    "        elif len(fig_name) < 9:\n",
    "            fig_name = f'{fig_name}_{get_title()}'\n",
    "        fig_name = fig_name.replace(' ', '_').replace(':', '-').replace(\n",
    "            '.', '-').replace('/', '_').replace('>', 'gt.').replace('<', 'lt.')\n",
    "        print(f'\"{fig_name}.png\"')\n",
    "        plt.gcf().savefig(\n",
    "            f'{IMAGE_FOLDER}/{fig_name}.png', bbox_inches='tight')\n"
   ]
  },
  {
   "cell_type": "markdown",
   "metadata": {},
   "source": [
    "### 1.3.2 Vérifier que les colonnes sont dans le dataframe\n",
    "\n",
    "- sans changer l'ordre des colonnes\n"
   ]
  },
  {
   "cell_type": "code",
   "execution_count": 9,
   "metadata": {},
   "outputs": [],
   "source": [
    "def cols_in_df(df: pd.DataFrame, colonnes: list = None) -> list:\n",
    "    \"\"\"\n",
    "    Procedure pour retourner les colonnes existantes dans le dataframe dans la même ordre.\n",
    "    Utiliser pour assurer que les colonnes existe.\n",
    "    \"\"\"\n",
    "    ret_cols = []\n",
    "    for col in colonnes:\n",
    "        if col in df.columns:\n",
    "            ret_cols.append(col)\n",
    "    return ret_cols\n"
   ]
  },
  {
   "cell_type": "markdown",
   "metadata": {},
   "source": [
    "# 2. Import, nettoyage et analyse exploratoire des données\n",
    "\n",
    "Un premier jeu de données d’articles avec la photo et une description associée :\n",
    "[le lien pour télécharger](https://s3-eu-west-1.amazonaws.com/static.oc-static.com/prod/courses/files/Parcours_data_scientist/Projet+-+Textimage+DAS+V2/Dataset+projet+pre%CC%81traitement+textes+images.zip)\n",
    "\n",
    "Un fois téléchargé, les données du fichier zip (329 Mo) sont éxtraites dans le dossier définit par DATA_FOLDER ci-dessous.\n"
   ]
  },
  {
   "cell_type": "code",
   "execution_count": 10,
   "metadata": {
    "colab": {
     "base_uri": "https://localhost:8080/"
    },
    "id": "FAKrDtU0d5uB",
    "outputId": "285d3e0d-aa65-40ee-eb7f-5b9e300e564e"
   },
   "outputs": [],
   "source": [
    "ENV = 'local'\n",
    "\n",
    "if ENV == 'local':\n",
    "    # local development\n",
    "    DATA_FOLDER = 'data/raw'\n",
    "    OUT_FOLDER = 'data/out'\n",
    "    IMAGE_FOLDER = 'images/textes'\n",
    "\n",
    "if ENV == 'colab':\n",
    "    # Colaboratory - uncomment les 2 lignes suivant pour connecter à votre drive\n",
    "    # from google.colab import drive\n",
    "    # drive.mount('/content/drive')\n",
    "    DATA_FOLDER = '/content/drive/MyDrive/data/OC6'\n",
    "    OUT_FOLDER = '/content/drive/MyDrive/data/OC6'\n",
    "    IMAGE_FOLDER = '/content/drive/MyDrive/images/OC6/nettoyage'\n"
   ]
  },
  {
   "cell_type": "code",
   "execution_count": 11,
   "metadata": {},
   "outputs": [
    {
     "name": "stdout",
     "output_type": "stream",
     "text": [
      "data file: data/raw/Flipkart/flipkart_com-ecommerce_sample_1050.csv\n"
     ]
    }
   ],
   "source": [
    "# Données (DATA_FOLDER)\n",
    "ZIPPED_DATA_FILENAME = f'Dataset+projet+prétraitement+textes+images.zip'\n",
    "RAW_DATA_FILENAME = 'Flipkart/flipkart_com-ecommerce_sample_1050.csv'\n",
    "\n",
    "\n",
    "def os_make_dir(folder):\n",
    "    if not os.path.exists(folder):\n",
    "        os.makedirs(folder)\n",
    "\n",
    "\n",
    "def os_path_join(folder, file):\n",
    "    \"\"\"remplacement pour `os.path.join(folder, file)` sur windows\"\"\"\n",
    "    return f'{folder}/{file}'\n",
    "\n",
    "\n",
    "os_make_dir(IMAGE_FOLDER)\n",
    "RAW_DATA = os_path_join(DATA_FOLDER, RAW_DATA_FILENAME)\n",
    "DATA_ZIPPED = os_path_join(DATA_FOLDER, ZIPPED_DATA_FILENAME)\n",
    "print(f'data file: {RAW_DATA}')\n"
   ]
  },
  {
   "cell_type": "code",
   "execution_count": 12,
   "metadata": {},
   "outputs": [
    {
     "name": "stdout",
     "output_type": "stream",
     "text": [
      "data CSV file exists (data/raw/Flipkart/flipkart_com-ecommerce_sample_1050.csv)\n"
     ]
    }
   ],
   "source": [
    "def unzip_data_si_besoin(env=ENV):\n",
    "    \"\"\"\n",
    "    procedure pour unzip sur Google Drive via Google Colab\n",
    "    \"\"\"\n",
    "    if os.path.exists(RAW_DATA):\n",
    "        print(f'data CSV file exists ({RAW_DATA})')\n",
    "    else:\n",
    "        print(f'data CSV file does not exist ({RAW_DATA})')\n",
    "        if env == 'colab' and os.path.exists(DATA_ZIPPED):\n",
    "            # uncomment les 3 lignes suivants\n",
    "            print(f'unzipping {DATA_ZIPPED}')\n",
    "            !unzip {DATA_ZIPPED} - d {DATA_FOLDER}\n",
    "            print(f'{DATA_ZIPPED} has been unzipped')\n",
    "            if os.path.exists(RAW_DATA):\n",
    "                print(f'data CSV file now exists ({RAW_DATA})')\n",
    "        else:\n",
    "            print(f'zipped data does not exist ({DATA_ZIPPED})')\n",
    "\n",
    "\n",
    "unzip_data_si_besoin(ENV)\n"
   ]
  },
  {
   "cell_type": "markdown",
   "metadata": {},
   "source": [
    "## 2.1 Import des données textes pour récuperer les images\n",
    "\n",
    "Les données textes sont traités dans Partie 1.\n",
    "\n",
    "On récrée les colonnes de catégories, puis supprime les colonnes pas utiles pour classification\n"
   ]
  },
  {
   "cell_type": "code",
   "execution_count": 13,
   "metadata": {},
   "outputs": [
    {
     "name": "stdout",
     "output_type": "stream",
     "text": [
      "['uniq_id', 'crawl_timestamp', 'product_url', 'product_name', 'product_category_tree', 'pid', 'retail_price', 'discounted_price', 'image', 'is_FK_Advantage_product', 'description', 'product_rating', 'overall_rating', 'brand', 'product_specifications']\n"
     ]
    }
   ],
   "source": [
    "df_data = pd.read_csv(RAW_DATA, sep=',', header=0, encoding='UTF-8')\n",
    "print(list(df_data.columns))\n"
   ]
  },
  {
   "cell_type": "markdown",
   "metadata": {},
   "source": [
    "### 2.1.1 Préparation des catégories\n",
    "\n",
    "Features à créer à partir du `product_category_tree` :\n",
    "\n",
    "- `categ_level_1` : les catégories à la racine de l'arbre\n",
    "- `categ_level_2` : les sous-catégories (divisions dans `categ_level_1`)\n",
    "- `categ_level_3` : les mini-catégories (divisions dans `categ_level_2`)\n"
   ]
  },
  {
   "cell_type": "code",
   "execution_count": 14,
   "metadata": {},
   "outputs": [
    {
     "data": {
      "text/html": [
       "<div>\n",
       "<style scoped>\n",
       "    .dataframe tbody tr th:only-of-type {\n",
       "        vertical-align: middle;\n",
       "    }\n",
       "\n",
       "    .dataframe tbody tr th {\n",
       "        vertical-align: top;\n",
       "    }\n",
       "\n",
       "    .dataframe thead th {\n",
       "        text-align: right;\n",
       "    }\n",
       "</style>\n",
       "<table border=\"1\" class=\"dataframe\">\n",
       "  <thead>\n",
       "    <tr style=\"text-align: right;\">\n",
       "      <th></th>\n",
       "      <th>categ_level_1</th>\n",
       "      <th>categ_level_2</th>\n",
       "      <th>categ_level_3</th>\n",
       "    </tr>\n",
       "  </thead>\n",
       "  <tbody>\n",
       "    <tr>\n",
       "      <th>0</th>\n",
       "      <td>Home Furnishing</td>\n",
       "      <td>Curtains &amp; Accessories</td>\n",
       "      <td>Curtains</td>\n",
       "    </tr>\n",
       "    <tr>\n",
       "      <th>1</th>\n",
       "      <td>Baby Care</td>\n",
       "      <td>Baby Bath &amp; Skin</td>\n",
       "      <td>Baby Bath Towels</td>\n",
       "    </tr>\n",
       "    <tr>\n",
       "      <th>2</th>\n",
       "      <td>Baby Care</td>\n",
       "      <td>Baby Bath &amp; Skin</td>\n",
       "      <td>Baby Bath Towels</td>\n",
       "    </tr>\n",
       "    <tr>\n",
       "      <th>3</th>\n",
       "      <td>Home Furnishing</td>\n",
       "      <td>Bed Linen</td>\n",
       "      <td>Bedsheets</td>\n",
       "    </tr>\n",
       "    <tr>\n",
       "      <th>4</th>\n",
       "      <td>Home Furnishing</td>\n",
       "      <td>Bed Linen</td>\n",
       "      <td>Bedsheets</td>\n",
       "    </tr>\n",
       "  </tbody>\n",
       "</table>\n",
       "</div>"
      ],
      "text/plain": [
       "     categ_level_1            categ_level_2      categ_level_3\n",
       "0  Home Furnishing   Curtains & Accessories           Curtains\n",
       "1        Baby Care         Baby Bath & Skin   Baby Bath Towels\n",
       "2        Baby Care         Baby Bath & Skin   Baby Bath Towels\n",
       "3  Home Furnishing                Bed Linen          Bedsheets\n",
       "4  Home Furnishing                Bed Linen          Bedsheets"
      ]
     },
     "execution_count": 14,
     "metadata": {},
     "output_type": "execute_result"
    }
   ],
   "source": [
    "def create_categ_level(df, max_depth=3):\n",
    "    if not 'product_category_tree' in df.columns:\n",
    "        return df\n",
    "    else:\n",
    "        df_cat = (df_data['product_category_tree']\n",
    "                  .str.lstrip('[\"').str.rstrip('\"]').str.split(' >>', expand=True))\n",
    "        df_cat = df_cat[df_cat.columns[range(max_depth)]]\n",
    "        df_cat.columns = [f'categ_level_{i}' for i in range(1, max_depth+1)]\n",
    "        return pd.concat([df, df_cat], axis=1)\n",
    "\n",
    "\n",
    "df_data.pipe(create_categ_level).iloc[:, -3:].head()\n"
   ]
  },
  {
   "cell_type": "markdown",
   "metadata": {},
   "source": [
    "### 2.1.2 Elimination des colonnes non-pertinentes au problématique\n",
    "\n",
    "Avant de faire du feature engineering, on supprime les colonnes non-utilisées pour classification\n"
   ]
  },
  {
   "cell_type": "code",
   "execution_count": 15,
   "metadata": {},
   "outputs": [
    {
     "name": "stdout",
     "output_type": "stream",
     "text": [
      "dropping 10 unused columns\n",
      "['product_name', 'pid', 'image', 'description', 'brand', 'categ_level_1', 'categ_level_2', 'categ_level_3']\n",
      "(1050, 8)\n"
     ]
    }
   ],
   "source": [
    "def drop_unused_columns(df):\n",
    "    \"\"\"supprimer les colonnes qui ne sont pas pertinentes\"\"\"\n",
    "    colonnes_non_pertinentes = ['uniq_id', 'crawl_timestamp', 'product_url', 'product_category_tree',\n",
    "                                'retail_price', 'discounted_price',\n",
    "                                'is_FK_Advantage_product', 'product_rating', 'overall_rating', 'product_specifications']\n",
    "    cols_to_drop = cols_in_df(df, colonnes_non_pertinentes)\n",
    "    print(f'dropping {len(cols_to_drop)} unused columns')\n",
    "    return df.drop(columns=cols_to_drop)\n",
    "\n",
    "\n",
    "df_data = (\n",
    "    pd.read_csv(RAW_DATA, sep=',', header=0, encoding='UTF-8')\n",
    "    .pipe(create_categ_level)\n",
    "    .pipe(drop_unused_columns)\n",
    ")\n",
    "print(list(df_data.columns))\n",
    "print(df_data.shape)\n"
   ]
  },
  {
   "cell_type": "code",
   "execution_count": 16,
   "metadata": {},
   "outputs": [
    {
     "data": {
      "text/html": [
       "<div>\n",
       "<style scoped>\n",
       "    .dataframe tbody tr th:only-of-type {\n",
       "        vertical-align: middle;\n",
       "    }\n",
       "\n",
       "    .dataframe tbody tr th {\n",
       "        vertical-align: top;\n",
       "    }\n",
       "\n",
       "    .dataframe thead th {\n",
       "        text-align: right;\n",
       "    }\n",
       "</style>\n",
       "<table border=\"1\" class=\"dataframe\">\n",
       "  <thead>\n",
       "    <tr style=\"text-align: right;\">\n",
       "      <th></th>\n",
       "      <th>product_name</th>\n",
       "      <th>pid</th>\n",
       "      <th>image</th>\n",
       "      <th>description</th>\n",
       "      <th>brand</th>\n",
       "      <th>categ_level_1</th>\n",
       "      <th>categ_level_2</th>\n",
       "      <th>categ_level_3</th>\n",
       "    </tr>\n",
       "  </thead>\n",
       "  <tbody>\n",
       "    <tr>\n",
       "      <th>0</th>\n",
       "      <td>Elegance Polyester Multicolor Abstract Eyelet Door Curtain</td>\n",
       "      <td>CRNEG7BKMFFYHQ8Z</td>\n",
       "      <td>55b85ea15a1536d46b7190ad6fff8ce7.jpg</td>\n",
       "      <td>Key Features of Elegance Polyester Multicolor Abstract Eyelet Door Curtain Floral Curtain,Elegan...</td>\n",
       "      <td>Elegance</td>\n",
       "      <td>Home Furnishing</td>\n",
       "      <td>Curtains &amp; Accessories</td>\n",
       "      <td>Curtains</td>\n",
       "    </tr>\n",
       "    <tr>\n",
       "      <th>1</th>\n",
       "      <td>Sathiyas Cotton Bath Towel</td>\n",
       "      <td>BTWEGFZHGBXPHZUH</td>\n",
       "      <td>7b72c92c2f6c40268628ec5f14c6d590.jpg</td>\n",
       "      <td>Specifications of Sathiyas Cotton Bath Towel (3 Bath Towel, Red, Yellow, Blue) Bath Towel Featur...</td>\n",
       "      <td>Sathiyas</td>\n",
       "      <td>Baby Care</td>\n",
       "      <td>Baby Bath &amp; Skin</td>\n",
       "      <td>Baby Bath Towels</td>\n",
       "    </tr>\n",
       "  </tbody>\n",
       "</table>\n",
       "</div>"
      ],
      "text/plain": [
       "                                                 product_name  \\\n",
       "0  Elegance Polyester Multicolor Abstract Eyelet Door Curtain   \n",
       "1                                  Sathiyas Cotton Bath Towel   \n",
       "\n",
       "                pid                                 image  \\\n",
       "0  CRNEG7BKMFFYHQ8Z  55b85ea15a1536d46b7190ad6fff8ce7.jpg   \n",
       "1  BTWEGFZHGBXPHZUH  7b72c92c2f6c40268628ec5f14c6d590.jpg   \n",
       "\n",
       "                                                                                           description  \\\n",
       "0  Key Features of Elegance Polyester Multicolor Abstract Eyelet Door Curtain Floral Curtain,Elegan...   \n",
       "1  Specifications of Sathiyas Cotton Bath Towel (3 Bath Towel, Red, Yellow, Blue) Bath Towel Featur...   \n",
       "\n",
       "      brand    categ_level_1            categ_level_2      categ_level_3  \n",
       "0  Elegance  Home Furnishing   Curtains & Accessories           Curtains  \n",
       "1  Sathiyas        Baby Care         Baby Bath & Skin   Baby Bath Towels  "
      ]
     },
     "execution_count": 16,
     "metadata": {},
     "output_type": "execute_result"
    }
   ],
   "source": [
    "df_data.head(2)\n"
   ]
  },
  {
   "cell_type": "markdown",
   "metadata": {},
   "source": [
    "## 2.1 Import des images (lecture)\n",
    "\n",
    "Les images sont decompressés du fichier zip dans le sous-dossier `DATA_FOLDER/Flipkart/Images'\n"
   ]
  },
  {
   "cell_type": "code",
   "execution_count": 17,
   "metadata": {},
   "outputs": [
    {
     "data": {
      "text/plain": [
       "['009099b1f6e1e8f893ec29a7023153c4.jpg',\n",
       " '0096e89cc25a8b96fb9808716406fe94.jpg',\n",
       " '00cbbc837d340fa163d11e169fbdb952.jpg',\n",
       " '00d84a518e0550612fcfcba3b02b6255.jpg',\n",
       " '00e966a5049a262cfc72e6bbf68b80e7.jpg']"
      ]
     },
     "execution_count": 17,
     "metadata": {},
     "output_type": "execute_result"
    }
   ],
   "source": [
    "import os\n",
    "IMG_FOLDER = f'{DATA_FOLDER}/Flipkart/Images'\n",
    "\n",
    "os.listdir(IMG_FOLDER)[:5]\n"
   ]
  },
  {
   "cell_type": "markdown",
   "metadata": {},
   "source": [
    "### Lecture d'un image\n"
   ]
  },
  {
   "cell_type": "code",
   "execution_count": 18,
   "metadata": {},
   "outputs": [
    {
     "data": {
      "image/png": "[encoded data removed]",
      "text/plain": [
       "<Figure size 144x144 with 1 Axes>"
      ]
     },
     "metadata": {},
     "output_type": "display_data"
    }
   ],
   "source": [
    "from PIL import Image\n",
    "import os\n",
    "\n",
    "\n",
    "def preview_image(filename=None, ax=None, titre=None):\n",
    "    if filename is None:\n",
    "        # seed = np.random.randint(0, 1050)\n",
    "        seed=352\n",
    "        filename = os.listdir(IMG_FOLDER)[seed]\n",
    "\n",
    "    # Charger l'image\n",
    "    img = Image.open(f'{IMG_FOLDER}/{filename}')\n",
    "\n",
    "    # Afficher l'image chargée dans jupyter\n",
    "    if ax is None:\n",
    "        fig = plt.figure(figsize=(2, 2))\n",
    "        ax = plt.gca()\n",
    "    ax.imshow(img, cmap='gray')\n",
    "    ax.set_axis_off()\n",
    "\n",
    "    if titre is None:\n",
    "        titre = filename\n",
    "    ax.set_title(titre)\n",
    "\n",
    "\n",
    "preview_image()\n"
   ]
  },
  {
   "cell_type": "markdown",
   "metadata": {},
   "source": [
    "## 2.2 Nettoyage des données\n"
   ]
  },
  {
   "cell_type": "code",
   "execution_count": 19,
   "metadata": {},
   "outputs": [
    {
     "name": "stdout",
     "output_type": "stream",
     "text": [
      "<class 'pandas.core.frame.DataFrame'>\n",
      "RangeIndex: 1050 entries, 0 to 1049\n",
      "Data columns (total 8 columns):\n",
      " #   Column         Non-Null Count  Dtype \n",
      "---  ------         --------------  ----- \n",
      " 0   product_name   1050 non-null   object\n",
      " 1   pid            1050 non-null   object\n",
      " 2   image          1050 non-null   object\n",
      " 3   description    1050 non-null   object\n",
      " 4   brand          712 non-null    object\n",
      " 5   categ_level_1  1050 non-null   object\n",
      " 6   categ_level_2  1050 non-null   object\n",
      " 7   categ_level_3  1047 non-null   object\n",
      "dtypes: object(8)\n",
      "memory usage: 65.8+ KB\n"
     ]
    }
   ],
   "source": [
    "df_data.info()\n"
   ]
  },
  {
   "cell_type": "markdown",
   "metadata": {},
   "source": [
    "## 3.1 Préparation des catégories\n",
    "\n",
    "Features à créer à partir du `product_category_tree` :\n",
    "\n",
    "- `categ_level_1` : les catégories à la racine de l'arbre\n",
    "- `categ_level_2` : les sous-catégories (divisions dans `categ_level_1`)\n",
    "- `categ_level_3` : les mini-catégories (divisions dans `categ_level_2`)\n",
    "- etc\n"
   ]
  },
  {
   "cell_type": "markdown",
   "metadata": {},
   "source": [
    "## Enregistre les données préparées\n"
   ]
  },
  {
   "cell_type": "markdown",
   "metadata": {},
   "source": [
    "## Nettoyage des variables globales\n"
   ]
  },
  {
   "cell_type": "code",
   "execution_count": 20,
   "metadata": {},
   "outputs": [],
   "source": [
    "# del df_data\n"
   ]
  },
  {
   "cell_type": "markdown",
   "metadata": {},
   "source": [
    "---\n"
   ]
  },
  {
   "cell_type": "markdown",
   "metadata": {},
   "source": [
    "# 4. Fonctions communs pour modèles classification\n",
    "\n",
    "- Lecture de données\n",
    "- Scoring des modèles\n",
    "- Visualisation de metriques de performance\n",
    "- Visualisation des clusters\n"
   ]
  },
  {
   "cell_type": "markdown",
   "metadata": {},
   "source": [
    "## 4.1 Lecture des données\n"
   ]
  },
  {
   "cell_type": "code",
   "execution_count": 21,
   "metadata": {},
   "outputs": [
    {
     "name": "stdout",
     "output_type": "stream",
     "text": [
      "(1050, 20)\n"
     ]
    }
   ],
   "source": [
    "data_T = pd.read_csv(f'{OUT_FOLDER}/data_cleaned.csv')\n",
    "print(data_T.shape)\n"
   ]
  },
  {
   "cell_type": "markdown",
   "metadata": {},
   "source": [
    "### 4.1.1 Variables pour comparer les catégories\n"
   ]
  },
  {
   "cell_type": "code",
   "execution_count": 22,
   "metadata": {},
   "outputs": [
    {
     "name": "stdout",
     "output_type": "stream",
     "text": [
      "catégories :  {0: 'Baby Care', 1: 'Beauty and Personal Care', 2: 'Computers', 3: 'Home Decor & Festive Needs', 4: 'Home Furnishing', 5: 'Kitchen & Dining', 6: 'Watches'}\n"
     ]
    }
   ],
   "source": [
    "from sklearn.preprocessing import LabelEncoder\n",
    "cat_encoder = LabelEncoder()\n",
    "\n",
    "# list des catégories de niveau 1\n",
    "l_cat = sorted(list(set(data_T['categ_level_1'])))\n",
    "l_cat_num = cat_encoder.fit_transform(l_cat)\n",
    "\n",
    "# map de catégories\n",
    "cat_map = dict(zip(l_cat_num, l_cat))\n",
    "print(\"catégories : \", cat_map)\n",
    "cat_encoder.inverse_transform(l_cat_num)\n",
    "\n",
    "\n",
    "y_cat_num = cat_encoder.fit_transform(data_T['categ_level_1'])\n",
    "y_cat_txt = data_T['categ_level_1'].copy()\n"
   ]
  },
  {
   "cell_type": "code",
   "execution_count": 23,
   "metadata": {},
   "outputs": [
    {
     "data": {
      "text/plain": [
       "array(['Beauty and Personal Care', 'Baby Care', 'Kitchen & Dining',\n",
       "       'Watches'], dtype=object)"
      ]
     },
     "execution_count": 23,
     "metadata": {},
     "output_type": "execute_result"
    }
   ],
   "source": [
    "cat_encoder.inverse_transform([1, 0, 5, 6])\n"
   ]
  },
  {
   "cell_type": "markdown",
   "metadata": {},
   "source": [
    "## 4.2 Modélisation et évaluation des modèles:\n",
    "\n",
    "- **Prétraitement** des données (choix de description , lemmatization, stopwords,...) - voir ci-dessus. On utilise 'feature' pour choisir la colonne des données prétraitées.\n",
    "\n",
    "- **Extraction de features** (par Bag-of-Words, TF-IDF, Word2Vec etc)\n",
    "\n",
    "- **Réduction de dimensions** (par t-SNE, PCA, NMF, truncatedSVD...)\n",
    "\n",
    "- **Classification (clustering) non-supervisée sur les dimensions réduits** (Gridsearch des hyperparamètres, sans ou avec choix de nombre de clusters)\n",
    "\n",
    "  - par Kmeans (défaut)\n",
    "  - par LDA (topic modelling)\n",
    "  - par NMF (pas utilisé ici)\n",
    "\n",
    "- **Evaluation de performance**:\n",
    "\n",
    "  - distortion score (l'inertie ou somme d'erreurs carrés de chaque cluster)\n",
    "  - score davies_bouldin (mésure de séparation des clusters)\n",
    "  - score silhouette des clusters (+ visualisation des silhouettes de chaque cluster)\n",
    "  - score stabilité des clusters (sur des sous-échantillons --> écart type)\n",
    "\n",
    "- **Evaluation de correspondance avec les catégories définis**\n",
    "  - ARI score\n",
    "  - pourcentage des items mal classés\n",
    "  - visualisation pour comparer les clusters sur les principaux dimensions réduits (TSNE ou PCA par exemple)\n",
    "  - visualisation Sankey de correlations entre clusters\n"
   ]
  },
  {
   "cell_type": "markdown",
   "metadata": {},
   "source": [
    "### 4.2.1 Scoring : performance d'un model\n",
    "\n",
    "C'est compliqué a mettre en place un pipeline de preprocessing, feature extraction, dimension reduction, classification, scoring, car les librairies parfois retourne un matrice sparse, parfois pas.\n",
    "\n",
    "Ci-dessous, ma procédure génerique pour score d'un model\n",
    "\n",
    "- on varie parametre k pour evaluer le nombre de clusters pour un meilleur performance\n",
    "\n",
    "On peut facilment ajouter un param_grid et faire un GridSearch sur tous les combinaisons des parametres :\n",
    "\n",
    "```python\n",
    "    # generate parameter grid for classifier\n",
    "    param_sets = ParameterGrid(param_grid)\n",
    "\n",
    "    for params in param_sets:\n",
    "        # print(f'score model for params = {params}')\n",
    "        # set model parameters (usually just n_clusters for classifier)\n",
    "        model.set_params(**params)\n",
    "        model.fit...\n",
    "```\n"
   ]
  },
  {
   "cell_type": "code",
   "execution_count": 24,
   "metadata": {},
   "outputs": [],
   "source": [
    "from sklearn.feature_extraction.text import TfidfVectorizer\n",
    "from sklearn.manifold import TSNE\n",
    "from sklearn.cluster import KMeans\n",
    "from sklearn import metrics\n",
    "import time\n",
    "import scipy\n",
    "from scipy.sparse import csr_matrix\n",
    "\n",
    "param_grid = {'n_clusters': range(4, 12)}\n",
    "\n",
    "\n",
    "def get_classname(estimator):\n",
    "    return estimator.__class__.__name__\n",
    "\n",
    "\n",
    "def score_model(df: pd.DataFrame,\n",
    "                feature='sentence_bow_lem',\n",
    "                labels_true=None,\n",
    "                document_preprocessor=None,\n",
    "                feature_extractor=TfidfVectorizer(\n",
    "                    stop_words='english', max_df=0.95, min_df=3),\n",
    "                dimension_reducer=TSNE(n_components=2, perplexity=30, n_iter=2000,\n",
    "                                       init='random', learning_rate=200, random_state=RANDOM_SEED),\n",
    "                kmin=7, kmax=7):\n",
    "    \"\"\"Executer un traitement de données, extraire les features, réduire les dimensions, et faire du clustering\n",
    "    Returns : scores, labels et matrice de 'reduced dimensions'\n",
    "    \"\"\"\n",
    "\n",
    "    # preprocess (normally done)\n",
    "    if document_preprocessor is None:\n",
    "        documents = df[feature]\n",
    "    else:\n",
    "        documents = document_preprocessor.fit_transform(df[feature])\n",
    "\n",
    "    # extract features\n",
    "    start_fit_extract = time.time()\n",
    "    features = feature_extractor.fit_transform(documents)\n",
    "    fit_time_extract = round(time.time()-start_fit_extract, 2)\n",
    "    print(\n",
    "        f'Extract_features ({get_classname(feature_extractor)}), fit time = {fit_time_extract} s')\n",
    "    print(f'type(features) = {type(features)}')\n",
    "    if isinstance(features, csr_matrix):\n",
    "        print('converting features from sparse to dense array')\n",
    "        # print(dir(features))\n",
    "        features = features.toarray()\n",
    "\n",
    "    # reduce dimensions\n",
    "    start_fit_reduce = time.time()\n",
    "    reduced_dimensions = dimension_reducer.fit_transform(features)\n",
    "    fit_time_reduce = round(time.time()-start_fit_reduce, 2)\n",
    "    print(\n",
    "        f'Reduce dimensions ({get_classname(dimension_reducer)}), fit time = {fit_time_reduce} s')\n",
    "\n",
    "    df_scores = pd.DataFrame({})\n",
    "\n",
    "    for k in range(kmin, kmax+1):\n",
    "        clusterer = KMeans(n_clusters=k)\n",
    "\n",
    "        #\n",
    "        start_fit_clf = time.time()\n",
    "        clusterer.fit(reduced_dimensions)\n",
    "        fit_time_clf = round(time.time()-start_fit_clf, 2)\n",
    "        # print(f'Clusterer fit time = {fit_time_clf} s')\n",
    "\n",
    "        labels_pred = clusterer.labels_\n",
    "        cluster_sizes = (pd.Series(labels_pred).value_counts(\n",
    "            normalize=True).values*100).astype(int)\n",
    "\n",
    "        min_cluster_pct = pd.Series(\n",
    "            labels_pred).value_counts(normalize=True).min()\n",
    "        res = {'k': k,\n",
    "               'min_cluster_pct': round(min_cluster_pct*100, 2),\n",
    "               'distortion_score': round(getattr(clusterer, 'inertia_', 0), 0),\n",
    "               'davies_bouldin': round(metrics.davies_bouldin_score(reduced_dimensions, labels_pred), 2),\n",
    "               'calinski_harabasz': round(metrics.calinski_harabasz_score(reduced_dimensions, labels_pred), 2),\n",
    "               'silhouette_score': round(metrics.silhouette_score(reduced_dimensions, labels_pred), 3),\n",
    "               'fit_time_cluster': fit_time_clf\n",
    "               }\n",
    "        ARI = ''\n",
    "        if not labels_true is None:\n",
    "            res['ARI'] = round(metrics.adjusted_rand_score(\n",
    "                labels_true, labels_pred), 3)\n",
    "            ARI = f\" ARI = {res['ARI']},\"\n",
    "        print(\n",
    "            f\"k={k}, fit: {fit_time_clf} s, silhouette= {res['silhouette_score']:.3},{ARI} cluster sizes = {cluster_sizes}\")\n",
    "        df_scores = df_scores.append(res, ignore_index=True)\n",
    "\n",
    "    df_scores['feature_extraction'] = get_classname(feature_extractor)\n",
    "    df_scores['dimension_reduction'] = get_classname(dimension_reducer)\n",
    "    df_scores['classifier'] = get_classname(clusterer)\n",
    "    df_scores['k'] = df_scores['k'].astype(int)\n",
    "\n",
    "    if kmin == kmax:\n",
    "        # utilise les dernier labels car ils sont aussi les premiers\n",
    "        return df_scores, labels_pred, reduced_dimensions\n",
    "    else:\n",
    "        # fourni les labels du meilleur k (on peut plus inferer best_k = labels.nunique())\n",
    "        best_score_idx = df_scores['silhouette_score'].idxmax()\n",
    "        best_k = df_scores.loc[best_score_idx, 'k']\n",
    "        clusterer = KMeans(n_clusters=best_k)\n",
    "        clusterer.fit(reduced_dimensions)\n",
    "        labels_pred = clusterer.labels_\n",
    "        return df_scores, labels_pred, reduced_dimensions\n",
    "\n",
    "\n",
    "# scores, labels, red_dim = score_model(data_T, 'sentence_bow_lem',\n",
    "#                                       labels_true=data_T['categ_level_1'],\n",
    "#                                       kmin=4, kmax=12)\n",
    "# scores\n"
   ]
  },
  {
   "cell_type": "markdown",
   "metadata": {},
   "source": [
    "## 4.3 Visualisations de metriques de performance\n",
    "\n",
    "On s'inspire de yellowbrick KElbowVisualizer pour generaliser à d'autres metriques (stability par exemple)\n"
   ]
  },
  {
   "cell_type": "code",
   "execution_count": 25,
   "metadata": {},
   "outputs": [
    {
     "name": "stdout",
     "output_type": "stream",
     "text": [
      "[45.0, 45.0, 135.0, 180.0]\n"
     ]
    }
   ],
   "source": [
    "\n",
    "def angle_between_vectors(v1, v2):\n",
    "    \"\"\"\n",
    "    calculate angle between 2 vectors.\n",
    "    use to find elbows\n",
    "    \"\"\"\n",
    "    ang1 = np.arctan2(*v1[::-1])\n",
    "    ang2 = np.arctan2(*v2[::-1])\n",
    "    ang = np.rad2deg(abs(ang1 - ang2) % (2 * np.pi))\n",
    "    if ang > 180:\n",
    "        ang = ang-180\n",
    "    return ang\n",
    "\n",
    "\n",
    "print([\n",
    "    angle_between_vectors([1, 1], [0, 0]),\n",
    "    angle_between_vectors([1, 1], [0, 1]),\n",
    "    angle_between_vectors([1, 1], [-1, 0]),\n",
    "    angle_between_vectors([1, 1], [-1, -1]),\n",
    "])\n"
   ]
  },
  {
   "cell_type": "code",
   "execution_count": 26,
   "metadata": {},
   "outputs": [],
   "source": [
    "\n",
    "def find_elbow(df: pd.DataFrame, x_col='k', y_col='distortion_score'):\n",
    "    \"\"\"find sharpest difference in angle for [k, score]\"\"\"\n",
    "    df = df.copy().reset_index()\n",
    "    # standardise scale to maximise angles between points\n",
    "\n",
    "    x_scale = df[x_col].max()-df[x_col].min()\n",
    "    y_min = df[y_col].min()\n",
    "    y_mult = (df[y_col].max()-y_min)/x_scale\n",
    "    df['y_scaled'] = (df[y_col]-y_min)/y_mult\n",
    "\n",
    "    # calculate angles between consecutive points\n",
    "    n = len(df)\n",
    "    for i in range(0, n-2):\n",
    "        point1 = df.loc[i, [x_col, 'y_scaled']]\n",
    "        point2 = df.loc[i+1, [x_col, 'y_scaled']]\n",
    "        point3 = df.loc[i+2, [x_col, 'y_scaled']]\n",
    "        vec1 = point2-point1\n",
    "        vec2 = point3-point2\n",
    "        df.loc[i+1, 'angle'] = angle_between_vectors(vec1, vec2)\n",
    "    # elbow is at highest difference in angle (assume monotonic function)\n",
    "    row = df['angle'].idxmax()\n",
    "    x_elbow = df.loc[row, x_col]\n",
    "    y_score = df.loc[row, y_col]\n",
    "    return x_elbow, y_score\n"
   ]
  },
  {
   "cell_type": "code",
   "execution_count": 27,
   "metadata": {},
   "outputs": [],
   "source": [
    "\n",
    "# k_best, distortion_score = find_elbow(scores, y_col='distortion_score')\n",
    "# print(f'Best score for k = {k_best}')\n",
    "# # check labels for best score have been returned\n",
    "# print(pd.Series(labels).nunique())\n"
   ]
  },
  {
   "cell_type": "markdown",
   "metadata": {},
   "source": [
    "### 4.3.1 Plot elbow visualiser\n"
   ]
  },
  {
   "cell_type": "code",
   "execution_count": 28,
   "metadata": {},
   "outputs": [],
   "source": [
    "\n",
    "def plot_second_ax(df, x_col, y2_col, ax, color='grey'):\n",
    "    \"\"\"add a secondary y axis to a plot\"\"\"\n",
    "    if y2_col in df.columns:\n",
    "        ax2 = ax.twinx()\n",
    "        ax2.plot(df[x_col], df[y2_col], label=y2_col,\n",
    "                 c=color, marker='o', linestyle='--', alpha=0.75)\n",
    "        ax2.tick_params(axis='y', colors=color)\n",
    "        ax2.set_ylabel(y2_col, color=color)\n",
    "\n",
    "\n",
    "def plot_elbow(df, x_col, y_col, ax):\n",
    "    \"\"\"draw a vertical line at elbow on a plot\"\"\"\n",
    "    elbow_k, elbow_score = find_elbow(df, x_col, y_col)\n",
    "    elbow_label = f'elbow at ${x_col}={elbow_k}$'\n",
    "    ax.axvline(elbow_k, c='k', linestyle=\"--\", label=elbow_label)\n",
    "    ax.legend(frameon=True)\n",
    "\n",
    "\n",
    "def plot_vline(df, x_col, y_col, ax, line_at='max'):\n",
    "    \"\"\"draw a vertical line at max or min value of y on a plot\"\"\"\n",
    "    if line_at == 'max':\n",
    "        row_idx = df[y_col].argmax()\n",
    "    elif line_at == 'min':\n",
    "        row_idx = df[y_col].argmin()\n",
    "    line_x = df.loc[row_idx, x_col]\n",
    "    line_label = f'{line_at} at ${x_col}={line_x}$'\n",
    "    ax.axvline(line_x, c='k', linestyle=\"--\", label=line_label)\n",
    "    ax.legend(frameon=True)\n",
    "\n",
    "\n",
    "def plot_elbow_visualiser(df: pd.DataFrame, x_col='k', score_col='distortion_score',\n",
    "                          show_elbow=False, time_col=None, ax1=None):\n",
    "    \"\"\"\n",
    "    Generic ElbowVisualiser, capable of showing any metric, elbows, secondary axis...\n",
    "    Allows subsequent manipulation of plots\n",
    "    \"\"\"\n",
    "    colors = sns.color_palette(\"tab20\").as_hex()\n",
    "    if ax1 is None:\n",
    "        _, ax1 = plt.subplots()\n",
    "    # scores\n",
    "    ax1.plot(df[x_col], df[score_col],\n",
    "             marker=\"D\", c=colors[0], linestyle=\"-\")\n",
    "    ax1.grid(False)\n",
    "    ax1.tick_params(axis='y', colors=colors[0])\n",
    "    ax1.set_xlabel(x_col)\n",
    "    ax1.set_ylabel(score_col, c=colors[0])\n",
    "    # fit times\n",
    "    if not time_col is None:\n",
    "        plot_second_ax(df, x_col, y2_col=time_col, ax=ax1)\n",
    "    if show_elbow:\n",
    "        plot_elbow(df, x_col, score_col, ax1)\n",
    "\n",
    "\n",
    "# Test visualiser\n",
    "# plot_elbow_visualiser(scores, score_col='distortion_score', show_elbow=True)\n",
    "# plt.suptitle(f'Kmeans Distortion Score')\n",
    "# to_png()\n"
   ]
  },
  {
   "cell_type": "markdown",
   "metadata": {},
   "source": [
    "### 4.3.2 Plot summary metrics\n",
    "\n",
    "- visualiser plusieurs metriques com subplots\n"
   ]
  },
  {
   "cell_type": "code",
   "execution_count": 29,
   "metadata": {},
   "outputs": [],
   "source": [
    "# print(sorted(list(scores.columns)))\n"
   ]
  },
  {
   "cell_type": "code",
   "execution_count": 30,
   "metadata": {},
   "outputs": [],
   "source": [
    "\n",
    "def plot_metrics(df_scores, x_col='k'):\n",
    "    \"\"\"\n",
    "    Plot each clustering metric in df_scores in a subplot\n",
    "    Plots to show depend on metrics added to df_scores\n",
    "    Parameters\n",
    "    ----------\n",
    "    df_scores   Scores for all permutations of a param_grid (previously calculated)\n",
    "    x_col       Choice of parameter to compare -by default k, but can show any hyperparameter\n",
    "    \"\"\"\n",
    "    if 'clf' in df_scores.columns and 'preprocessor' in df_scores.columns:\n",
    "        print(\n",
    "            f\"plotting metrics (clf: {df_scores['clf'][0]}, preprocessor: {df_scores['preprocessor'][0]})\")\n",
    "\n",
    "    METRICS = ['distortion_score', 'calinski_harabasz',\n",
    "               'davies_bouldin', 'silhouette_score', 'stability_score']\n",
    "    metrics = cols_in_df(df_scores, METRICS)\n",
    "    n_plots = len(metrics)\n",
    "    n_cols = min(n_plots, 2)\n",
    "    # n_rows = int(ceil(n_plots/n_cols))\n",
    "    n_rows = n_plots // n_cols + (n_plots % n_cols > 0)\n",
    "    _ = plt.figure(figsize=(n_cols*5, n_rows*3))\n",
    "    for n, metric in enumerate(metrics):\n",
    "        ax = plt.subplot(n_rows, n_cols, n + 1)\n",
    "        if metric == 'distortion_score':\n",
    "            plot_elbow_visualiser(\n",
    "                df_scores, x_col, metric, ax1=ax, time_col='fit time (s)', show_elbow=True)\n",
    "            plt.title(metric)\n",
    "        if metric == 'calinski_harabasz':\n",
    "            plot_elbow_visualiser(df_scores, x_col, metric, ax1=ax)\n",
    "            plot_vline(df_scores, x_col, metric, ax=ax, line_at='max')\n",
    "            plt.title(f'{metric} score (max={df_scores[metric].max():.0f})')\n",
    "        if metric == 'davies_bouldin':\n",
    "            plot_elbow_visualiser(df_scores, x_col, metric, ax1=ax)\n",
    "            plot_vline(df_scores, x_col, metric, ax=ax, line_at='min')\n",
    "            plt.title(f'{metric} score (min={df_scores[metric].min():.2f})')\n",
    "        if metric == 'silhouette_score':\n",
    "            titre = f'{metric} (max={df_scores[metric].max():.2f})'\n",
    "            if 'silhouette_score_std' in df_scores.columns:\n",
    "                if 'silhouette_sample_sizes' in df_scores.columns:\n",
    "                    sample_size = int(\n",
    "                        df_scores['silhouette_sample_sizes'].max())\n",
    "                    titre += f' 10 samples de {sample_size} pts'\n",
    "                plt.errorbar(data=df_scores, x=x_col, y='silhouette_score',\n",
    "                             yerr='silhouette_score_std')\n",
    "            plot_elbow_visualiser(df_scores, x_col, metric,\n",
    "                                  ax1=ax, time_col='silhouette_time')\n",
    "            plot_vline(df_scores, x_col, metric, ax=ax, line_at='max')\n",
    "            plt.title(titre)\n",
    "        if metric == 'stability_score':\n",
    "            titre = f'{metric} (max={df_scores[metric].max():.2f})'\n",
    "            if 'stability_score_std' in df_scores.columns:\n",
    "                if 'stability_sample_sizes' in df_scores.columns:\n",
    "                    sample_size = int(\n",
    "                        df_scores['stability_sample_sizes'].max())\n",
    "                    titre += f' 10 samples de {sample_size} pts'\n",
    "                plt.errorbar(data=df_scores, x=x_col, y='stability_score',\n",
    "                             yerr='stability_score_std')\n",
    "            plot_elbow_visualiser(df_scores, x_col, metric,\n",
    "                                  ax1=ax, time_col='stability_time')\n",
    "            plot_vline(df_scores, x_col, metric, ax=ax, line_at='max')\n",
    "            plt.title(titre)\n",
    "\n",
    "    plt.subplots_adjust(hspace=0.5, wspace=0.5)\n",
    "    plt.suptitle(\n",
    "        f\"Plot metrics (feature extraction : {df_scores['feature_extraction'][0]};   dimension reduction {df_scores['dimension_reduction'][0]})\")\n",
    "\n",
    "\n",
    "# test\n",
    "# plot_metrics(scores)\n",
    "# to_png()\n"
   ]
  },
  {
   "cell_type": "markdown",
   "metadata": {},
   "source": [
    "## 4.4 Visualisation des clusters sur les 'reduced_dimensions'\n"
   ]
  },
  {
   "cell_type": "markdown",
   "metadata": {},
   "source": [
    "### 4.4.1 Calcul de meilleur correspondance entre categorie et cluster label\n",
    "\n",
    "Les cluster labels attribué par des modélisations (ex: kmeans) sont aléatoires, que fait que des comparaisons entre la catégorie atribuée et les libellés sont difficil a comparer : ils n'ont pas les même couleurs\n",
    "\n",
    "On essaie de faire correspondre les cluster labels dans la même ordre que categ_true,\n",
    "pour faciliter : - la matrice de confusion entre categorie et cluster - la comparaison des clusters sur plots tsne/pca (couleurs plus proche) - les diagrammes Sankey pour montre les rélations\n",
    "\n",
    "- https://sparse-plex.readthedocs.io/en/latest/book/clustering/comparing_clusterings.html\n",
    "- https://python.plainenglish.io/hungarian-algorithm-introduction-python-implementation-93e7c0890e15\n",
    "- https://docs.scipy.org/doc/scipy/reference/generated/scipy.optimize.linear_sum_assignment.html\n",
    "\n",
    "Comme alternative à KMeans (algorithme publié octobre 2021):\n",
    "\n",
    "- https://www.researchgate.net/publication/353696146_The_utility_of_clusters_and_a_Hungarian_clustering_algorithm\n"
   ]
  },
  {
   "cell_type": "code",
   "execution_count": 31,
   "metadata": {},
   "outputs": [
    {
     "name": "stdout",
     "output_type": "stream",
     "text": [
      "(2, 3)\n",
      "       0  1  2\n",
      "0      1  0  6\n",
      "1      0  3  3\n",
      "pad_0  0  0  0\n",
      "   0  1  pad_0\n",
      "0  1  0      0\n",
      "1  0  3      0\n",
      "2  6  3      0\n"
     ]
    }
   ],
   "source": [
    "from scipy.optimize import linear_sum_assignment\n",
    "\n",
    "\n",
    "def squarify_df(df: pd.DataFrame, val=0):\n",
    "    rows, cols = df.shape\n",
    "    if rows > cols:\n",
    "        # append columns to end of dataframe\n",
    "        pad_cols = rows-cols\n",
    "        pad_df = pd.DataFrame(\n",
    "            np.zeros((rows, pad_cols), dtype=int), index=df.index)\n",
    "        pad_df.columns = [f'pad_{i}'for i in range(pad_cols)]\n",
    "        df = df.join(pad_df)\n",
    "    elif cols > rows:\n",
    "        # append rows to end of dataframe\n",
    "        pad_rows = cols-rows\n",
    "        pad_df = pd.DataFrame(data=np.zeros((cols-rows, cols), dtype=int),\n",
    "                              columns=range(cols))\n",
    "        pad_df.index = [f'pad_{i}'for i in range(pad_rows)]\n",
    "        df = df.append(pad_df)\n",
    "    return df\n",
    "\n",
    "\n",
    "df_test_rows = pd.DataFrame([[1, 0, 6], [0, 3, 3]])\n",
    "df_test_cols = df_test_rows.T\n",
    "print(df_test_rows.shape)\n",
    "print(squarify_df(df_test_rows))\n",
    "print(squarify_df(df_test_cols))\n"
   ]
  },
  {
   "cell_type": "code",
   "execution_count": 32,
   "metadata": {},
   "outputs": [],
   "source": [
    "def conf_matrix_labels(categ_true, clust_labels, normalize=False):\n",
    "    \"\"\"\n",
    "    Calcul de meilleur correspondance entre true_categorie et predicted categorie\n",
    "\n",
    "    Les cluster labels attribué par kmeans sont aléatoires. \n",
    "    On essaie de mettre les cluster labels dans la même ordre que categ_true, \n",
    "    pour faciliter :\n",
    "        - la matrice de confusion entre categorie et cluster\n",
    "        - la comparaison des clusters sur plots tsne/pca (couleurs plus proche)\n",
    "        - les diagrammes Sankey pour montre les rélations \n",
    "    \"\"\"\n",
    "\n",
    "    # créer le crosstab entre categorie et cluster label\n",
    "    df_matr: pd.DataFrame = pd.crosstab(categ_true, clust_labels,\n",
    "                                        normalize=normalize)\n",
    "\n",
    "    # Si besoin, créer un matrice carré pour pouvoir applique l'algorithme\n",
    "    n_categ = df_matr.shape[0]\n",
    "    n_labels = df_matr.shape[1]\n",
    "\n",
    "    square_matr = squarify_df(df_matr).fillna(0)\n",
    "\n",
    "    # trouve ordre de colonnes et lignes pour maximiser valeurs dans le diagonale\n",
    "    rows, cols = linear_sum_assignment(square_matr.values, maximize=True)\n",
    "\n",
    "    if len(rows) > n_categ:\n",
    "        rows = [idx for idx in rows if idx < n_categ]\n",
    "    if len(cols) > n_labels:\n",
    "        cols = [idx for idx in cols if idx < n_labels]\n",
    "    # print(f'len(rows) : {len(rows)}')\n",
    "    # print(f'len(cols) : {len(cols)}')\n",
    "    df_opt = df_matr.iloc[:, cols]\n",
    "\n",
    "    new_cols = [str(col) for col in df_opt.index]\n",
    "    cluster_labelmap = dict(zip(list(df_opt.columns), new_cols))\n",
    "\n",
    "    if normalize == False:\n",
    "        df_opt = df_opt.round(0).astype(int)\n",
    "\n",
    "    return df_opt, cluster_labelmap\n",
    "\n",
    "\n",
    "# str_labels = pd.Series(labels).map(lambda x: f'cluster_{x}')\n",
    "# conf_matrix_labels(categ_true=y_cat_txt,\n",
    "#                    clust_labels=pd.Series(labels, dtype=str))\n"
   ]
  },
  {
   "cell_type": "markdown",
   "metadata": {},
   "source": [
    "### 4.4.2 Clustering KMeans via TSNE, et calcul de metric ARI\n",
    "\n",
    "Un fois les scores sont calculés, les procédures ci-dessous permet de visualiser\n"
   ]
  },
  {
   "cell_type": "code",
   "execution_count": 33,
   "metadata": {},
   "outputs": [],
   "source": [
    "from sklearn import manifold\n",
    "import time\n",
    "from numpy import ndarray\n",
    "\n",
    "\n",
    "def reducer_tsne(features: pd.Series) -> ndarray:\n",
    "    time1 = time.time()\n",
    "    tsne = manifold.TSNE(n_components=2, perplexity=30, n_iter=2000,\n",
    "                         init='random', learning_rate=200, random_state=RANDOM_SEED)\n",
    "    X_tsne = tsne.fit_transform(features)\n",
    "    time2 = np.round(time.time() - time1, 0)\n",
    "    print(f'reducer t-SNE, shape ={X_tsne.shape} time : {time2}')\n",
    "    return X_tsne\n"
   ]
  },
  {
   "cell_type": "code",
   "execution_count": 34,
   "metadata": {},
   "outputs": [],
   "source": [
    "from sklearn import cluster, metrics\n",
    "import time\n",
    "\n",
    "\n",
    "def calc_ARI(labels_pred, labels_true=y_cat_num):\n",
    "    \"\"\"Calcul l'Adjusted Rand Index score\"\"\"\n",
    "    return np.round(metrics.adjusted_rand_score(labels_true, labels_pred), 4)\n",
    "\n",
    "\n",
    "def calc_tsne_cluster(features, categories_=l_cat, y_cat_num_=y_cat_num, k=None):\n",
    "    \"\"\"\n",
    "    Calcul Tsne, détermination des clusters et calcul ARI \n",
    "    entre vrais catégorie et n° de clusters\n",
    "    \"\"\"\n",
    "    X_tsne = reducer_tsne(features)\n",
    "\n",
    "    if k is None or not k > 0:\n",
    "        k = len(categories_)\n",
    "\n",
    "    time1 = time.time()\n",
    "    # Détermination des clusters à partir des données après Tsne\n",
    "    cls = cluster.KMeans(n_clusters=k, n_init=100,\n",
    "                         random_state=RANDOM_SEED)\n",
    "    cls.fit(X_tsne)\n",
    "    time2 = np.round(time.time() - time1, 0)\n",
    "    ARI = np.round(metrics.adjusted_rand_score(y_cat_num_, cls.labels_), 4)\n",
    "\n",
    "    print(\"ARI : \", ARI, \"time : \", time2)\n",
    "    # ajout cls.cluster_centers_ ?\n",
    "    return ARI, X_tsne, cls.labels_\n"
   ]
  },
  {
   "cell_type": "markdown",
   "metadata": {},
   "source": [
    "### 4.2.2 Visualisation des clusters sur les dimensions réduits\n"
   ]
  },
  {
   "cell_type": "code",
   "execution_count": 35,
   "metadata": {},
   "outputs": [],
   "source": [
    "\n",
    "#\n",
    "def plot_clusters_sur_2D(X_tsne_, y_cat_num_, labels_, ARI_, l_cat_=l_cat,\n",
    "                         bbox_left=-0.05, loc=1,\n",
    "                         palette='bright',\n",
    "                         titre1='Représentation des produits par catégories réelles',\n",
    "                         titre2='Représentation des produits par clusters'):\n",
    "    \"\"\"\n",
    "    Visualisation du Tsne selon les vraies catégories et selon les clusters\n",
    "    \"\"\"\n",
    "    if ARI_ is None:\n",
    "        ARI_ = calc_ARI(y_cat_num_, labels_)\n",
    "    df_opt, label_map = conf_matrix_labels(y_cat_num_, labels_)\n",
    "\n",
    "    # s_labels=pd.Series(labels_).map(label_map)\n",
    "    s_labels = pd.Series(labels_)\n",
    "\n",
    "    # mettre l'ordre des clusters dans la même ordre que les y_cat\n",
    "    labels_hue_order = list(df_opt.columns)\n",
    "    n_labels = len(labels_hue_order)\n",
    "\n",
    "    categ_hue_order = sorted(list(pd.Series(y_cat_num_).unique()))\n",
    "    n_categ = len(categ_hue_order)\n",
    "\n",
    "    n_max = max(n_labels, n_categ)\n",
    "    colors = sns.color_palette(palette, n_colors=n_max)\n",
    "    # print (colors)\n",
    "    labels_palette = colors[:n_labels]\n",
    "    categ_palette = colors[:n_categ]\n",
    "    fig = plt.figure(figsize=(15, 6))\n",
    "\n",
    "    ax1 = fig.add_subplot(121)\n",
    "    scatter1 = sns.scatterplot(x=X_tsne_[:, 0], y=X_tsne_[:, 1], ax=ax1,\n",
    "                               hue=y_cat_num_, hue_order=categ_hue_order, palette=categ_palette)\n",
    "    ax1.legend(title=\"Categorie\", bbox_to_anchor=(bbox_left, 0.5), loc=loc)\n",
    "    plt.title(titre1)\n",
    "\n",
    "    ax2 = fig.add_subplot(122)\n",
    "    scatter2 = sns.scatterplot(x=X_tsne_[:, 0], y=X_tsne_[:, 1], ax=ax2,\n",
    "                               hue=s_labels, hue_order=labels_hue_order, palette=labels_palette)\n",
    "    ax2.legend(loc=\"best\", title=\"Clusters\")\n",
    "    plt.title(titre2)\n",
    "    print(\"ARI : \", ARI_)\n",
    "    return fig\n"
   ]
  },
  {
   "cell_type": "markdown",
   "metadata": {},
   "source": [
    "### Calcul des clusters et affichage\n"
   ]
  },
  {
   "cell_type": "code",
   "execution_count": 36,
   "metadata": {},
   "outputs": [],
   "source": [
    "# scores1, labels1, X_tsne1 = score_model(data_T, labels_true=y_cat_txt,\n",
    "#                                        feature_extractor=CountVectorizer(\n",
    "#                                            stop_words='english', ngram_range=(1, 1), max_df=0.95, min_df=3),\n",
    "#                                        dimension_reducer=TSNE(n_components=2, perplexity=30, n_iter=2000,\n",
    "#                                        init='random', learning_rate='auto'),\n",
    "#                                        kmin=4, kmax=12)\n",
    "# plot_metrics(scores1)\n"
   ]
  },
  {
   "cell_type": "markdown",
   "metadata": {},
   "source": [
    "# 9. Enregistrement des résultats\n",
    "\n",
    "Enregistre données avec les libellés produit par chaque modèle\n"
   ]
  },
  {
   "cell_type": "code",
   "execution_count": null,
   "metadata": {},
   "outputs": [],
   "source": [
    "# data_T.to_csv(f'{OUT_FOLDER}/data_image_labelled.csv')\n"
   ]
  }
 ],
 "metadata": {
  "interpreter": {
   "hash": "08f54268de9884c973a82c2c5267bbf1de8fae7577a142dd199c5c3f90c0dd65"
  },
  "kernelspec": {
   "display_name": "Python 3.7.0 ('OC_3')",
   "language": "python",
   "name": "python3"
  },
  "language_info": {
   "codemirror_mode": {
    "name": "ipython",
    "version": 3
   },
   "file_extension": ".py",
   "mimetype": "text/x-python",
   "name": "python",
   "nbconvert_exporter": "python",
   "pygments_lexer": "ipython3",
   "version": "3.7.0"
  }
 },
 "nbformat": 4,
 "nbformat_minor": 2
}
